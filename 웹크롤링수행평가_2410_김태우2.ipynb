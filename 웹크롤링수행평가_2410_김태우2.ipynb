{
 "cells": [
  {
   "cell_type": "markdown",
   "source": [
    "# NBA(미국 농구 리그) 웹사이트에서 다음 경기일정 찾기"
   ],
   "metadata": {}
  },
  {
   "cell_type": "markdown",
   "source": [
    "## BeautifulSoup으로 경기날짜, 장소, 팀 가져오기"
   ],
   "metadata": {}
  },
  {
   "cell_type": "code",
   "execution_count": 4,
   "source": [
    "import requests\n",
    "from bs4 import BeautifulSoup\n",
    "import pandas as pd"
   ],
   "outputs": [],
   "metadata": {}
  },
  {
   "cell_type": "code",
   "execution_count": 5,
   "source": [
    "url = 'https://www.nba.com/schedule?cal=October&region=1'\n",
    "\n",
    "header = {\n",
    "  'user-agent': 'Mozilla/5.0 (Windows NT 10.0; Win64; x64) AppleWebKit/537.36 (KHTML, like Gecko) Chrome/90.0.4430.229 Whale/2.10.123.42 Safari/537.36'\n",
    "}\n",
    "res = requests.get(url, headers=header)\n",
    "res"
   ],
   "outputs": [
    {
     "output_type": "execute_result",
     "data": {
      "text/plain": [
       "<Response [200]>"
      ]
     },
     "metadata": {},
     "execution_count": 5
    }
   ],
   "metadata": {}
  },
  {
   "cell_type": "code",
   "execution_count": 6,
   "source": [
    "soup = BeautifulSoup(res.text, 'html.parser')\n",
    "soup.head()"
   ],
   "outputs": [
    {
     "output_type": "execute_result",
     "data": {
      "text/plain": [
       "[<meta charset=\"utf-8\"/>,\n",
       " <link href=\"/site-manifest.json\" rel=\"manifest\"/>,\n",
       " <meta content=\"app-id=484672289\" name=\"apple-itunes-app\"/>,\n",
       " <meta content=\"width=device-width,initial-scale=1,minimum-scale=1,maximum-scale=5\" name=\"viewport\"/>,\n",
       " <script src=\"/newrelic/newrelic-prod.js\"></script>,\n",
       " <script defer=\"\" src=\"https://assets.adobedtm.com/82bf3c13a525/38d894c71c0b/launch-ff3828f362fb.min.js\"></script>,\n",
       " <link href=\"https://neulionms-a.akamaihd.net/nbad/player/v1/nba/site_4/styles/nlaaui.css\" rel=\"stylesheet\"/>,\n",
       " <script src=\"https://neulionms-a.akamaihd.net/nbad/player/v1/nba/site_4/scripts/nbanlaaeui.js\"></script>,\n",
       " <script>window.digitalData={\"page\":{\"pageInfo\":{\"pageName\":\"nba:schedule:main\",\"siteSection\":\"nba:schedule\",\"subSection1\":\"nba:schedule:main\",\"subSection2\":\"nba:schedule:main\",\"primaryCategory\":\"schedule\"}},\"site\":{\"productName\":\"nba:web\",\"league\":\"nba\"},\"exists\":true}</script>,\n",
       " <script src=\"/adfuel/initiator.js\"></script>,\n",
       " <title>NBA League Schedule for October | NBA.com</title>,\n",
       " <meta content=\"NBA League Schedule for the month of October\" name=\"description\"/>,\n",
       " <link href=\"/favicon.ico\" rel=\"icon\"/>,\n",
       " <link href=\"/favicon-32x32.png\" rel=\"icon\" sizes=\"32x32\" type=\"image/png\"/>,\n",
       " <link href=\"/favicon-16x16.png\" rel=\"icon\" sizes=\"16x16\" type=\"image/png\"/>,\n",
       " <link href=\"apple-touch-icon.png\" rel=\"apple-touch-icon\"/>,\n",
       " <link href=\"/apple-touch-icon.png\" rel=\"apple-touch-icon\" sizes=\"180x180\"/>,\n",
       " <link href=\"/apple-touch-icon.png\" rel=\"apple-touch-icon\" sizes=\"120x120\"/>,\n",
       " <link href=\"/apple-touch-icon.png\" rel=\"apple-touch-icon-precomposed\"/>,\n",
       " <meta content=\"#da532c\" name=\"msapplication-TileColor\"/>,\n",
       " <meta content=\"20\" name=\"next-head-count\"/>,\n",
       " <link as=\"style\" href=\"/_next/static/css/bf626b35283183bf4b22.css\" rel=\"preload\"/>,\n",
       " <link data-n-g=\"\" href=\"/_next/static/css/bf626b35283183bf4b22.css\" rel=\"stylesheet\"/>,\n",
       " <link as=\"style\" href=\"/_next/static/css/1f69a8f689158f9887a7.css\" rel=\"preload\"/>,\n",
       " <link data-n-p=\"\" href=\"/_next/static/css/1f69a8f689158f9887a7.css\" rel=\"stylesheet\"/>,\n",
       " <link as=\"style\" href=\"/_next/static/css/bdb25dee8a85a46ddd48.css\" rel=\"preload\"/>,\n",
       " <link data-n-p=\"\" href=\"/_next/static/css/bdb25dee8a85a46ddd48.css\" rel=\"stylesheet\"/>,\n",
       " <noscript data-n-css=\"\"></noscript>,\n",
       " <script defer=\"\" nomodule=\"\" src=\"/_next/static/chunks/polyfills-4064359de70ab0c6a6f5.js\"></script>,\n",
       " <script defer=\"\" src=\"/_next/static/chunks/webpack-4400710d720e5137c176.js\"></script>,\n",
       " <script defer=\"\" src=\"/_next/static/chunks/framework-ee7f4db754ed3f3ec0b7.js\"></script>,\n",
       " <script defer=\"\" src=\"/_next/static/chunks/main-3df6ff8b556f5320e88a.js\"></script>,\n",
       " <script defer=\"\" src=\"/_next/static/chunks/pages/_app-3716729e63b351c0452f.js\"></script>,\n",
       " <script defer=\"\" src=\"/_next/static/chunks/3271-987475d78fb8d7d56f59.js\"></script>,\n",
       " <script defer=\"\" src=\"/_next/static/chunks/6514-d2d19826f9fa68a4d8b9.js\"></script>,\n",
       " <script defer=\"\" src=\"/_next/static/chunks/7410-2cccc0e142690397d0f4.js\"></script>,\n",
       " <script defer=\"\" src=\"/_next/static/chunks/2191-ec929ede84d96e4d4358.js\"></script>,\n",
       " <script defer=\"\" src=\"/_next/static/chunks/7939-9f95bd84dff9e31d10e9.js\"></script>,\n",
       " <script defer=\"\" src=\"/_next/static/chunks/6285-602186e7cc568f138beb.js\"></script>,\n",
       " <script defer=\"\" src=\"/_next/static/chunks/958-9399c353dd253dd4f979.js\"></script>,\n",
       " <script defer=\"\" src=\"/_next/static/chunks/361-baf1cae357cfe1679985.js\"></script>,\n",
       " <script defer=\"\" src=\"/_next/static/chunks/pages/schedule-bbc876c676aaeb8dd5ab.js\"></script>,\n",
       " <script defer=\"\" src=\"/_next/static/H5VtaS7oFLQX8CgiNIMfW/_buildManifest.js\"></script>,\n",
       " <script defer=\"\" src=\"/_next/static/H5VtaS7oFLQX8CgiNIMfW/_ssgManifest.js\"></script>]"
      ]
     },
     "metadata": {},
     "execution_count": 6
    }
   ],
   "metadata": {}
  },
  {
   "cell_type": "code",
   "execution_count": 7,
   "source": [
    "from selenium import webdriver\n",
    "from selenium.webdriver.common.keys import Keys\n",
    "from selenium.webdriver.common.by import By\n",
    "from selenium.webdriver.support.ui import WebDriverWait\n",
    "from selenium.webdriver.support import expected_conditions as EC\n",
    "\n",
    "driver_path = '/home/rlxdn/Downloads/chromedriver'\n",
    "driver = webdriver.Chrome(driver_path)\n",
    "driver.get(\"https://www.nba.com/schedule?cal=October&region=1\")\n",
    "\n",
    "WebDriverWait(driver, 10).until(\n",
    "  EC.presence_of_element_located(\n",
    "      (By.CSS_SELECTOR, \"#onetrust-accept-btn-handler\")\n",
    "  )\n",
    ")\n",
    "\n",
    "btn = '#onetrust-accept-btn-handler'\n",
    "driver.find_element_by_css_selector(btn).click()\n",
    "\n",
    "html = driver.page_source\n",
    "driver.close()"
   ],
   "outputs": [],
   "metadata": {}
  },
  {
   "cell_type": "code",
   "execution_count": 8,
   "source": [
    "soup = BeautifulSoup(html)"
   ],
   "outputs": [],
   "metadata": {}
  },
  {
   "cell_type": "markdown",
   "source": [
    "### 경기날짜별 경기의 데이터 가져오기(경기 시간, 경기 지역과 장소, 경기 시간, 경기 팀)"
   ],
   "metadata": {}
  },
  {
   "cell_type": "code",
   "execution_count": 36,
   "source": [
    "days = soup.select(\"div.flex.flex-col.pt-5.border-b.border-concrete\")\n",
    "games_list = []\n",
    "# //*[@id=\"__next\"]/div[2]/div[3]/section/div/div[2]/div[1]/div[1]\n",
    "for day in days:\n",
    "  date = day.find(\"h4\").get_text()\n",
    "  print(date)\n",
    "  games = day.findAll(By.CLASS_NAME(\"div.py-5.border-t.border-concrete.flex.flex-col.xl:flex-row\"))\n",
    "  for i in range(int(day.find(\"h6\").get_text().split(\" \")[1])):\n",
    "    print(games)"
   ],
   "outputs": [
    {
     "output_type": "stream",
     "name": "stdout",
     "text": [
      "Sunday, October 3\n"
     ]
    },
    {
     "output_type": "error",
     "ename": "TypeError",
     "evalue": "'str' object is not callable",
     "traceback": [
      "\u001b[0;31m---------------------------------------------------------------------------\u001b[0m",
      "\u001b[0;31mTypeError\u001b[0m                                 Traceback (most recent call last)",
      "\u001b[0;32m/tmp/ipykernel_21509/448859339.py\u001b[0m in \u001b[0;36m<module>\u001b[0;34m\u001b[0m\n\u001b[1;32m      5\u001b[0m   \u001b[0mdate\u001b[0m \u001b[0;34m=\u001b[0m \u001b[0mday\u001b[0m\u001b[0;34m.\u001b[0m\u001b[0mfind\u001b[0m\u001b[0;34m(\u001b[0m\u001b[0;34m\"h4\"\u001b[0m\u001b[0;34m)\u001b[0m\u001b[0;34m.\u001b[0m\u001b[0mget_text\u001b[0m\u001b[0;34m(\u001b[0m\u001b[0;34m)\u001b[0m\u001b[0;34m\u001b[0m\u001b[0;34m\u001b[0m\u001b[0m\n\u001b[1;32m      6\u001b[0m   \u001b[0mprint\u001b[0m\u001b[0;34m(\u001b[0m\u001b[0mdate\u001b[0m\u001b[0;34m)\u001b[0m\u001b[0;34m\u001b[0m\u001b[0;34m\u001b[0m\u001b[0m\n\u001b[0;32m----> 7\u001b[0;31m   \u001b[0mgames\u001b[0m \u001b[0;34m=\u001b[0m \u001b[0mday\u001b[0m\u001b[0;34m.\u001b[0m\u001b[0mfindAll\u001b[0m\u001b[0;34m(\u001b[0m\u001b[0mBy\u001b[0m\u001b[0;34m.\u001b[0m\u001b[0mCLASS_NAME\u001b[0m\u001b[0;34m(\u001b[0m\u001b[0;34m\"div.py-5.border-t.border-concrete.flex.flex-col.xl:flex-row\"\u001b[0m\u001b[0;34m)\u001b[0m\u001b[0;34m)\u001b[0m\u001b[0;34m\u001b[0m\u001b[0;34m\u001b[0m\u001b[0m\n\u001b[0m\u001b[1;32m      8\u001b[0m   \u001b[0;32mfor\u001b[0m \u001b[0mi\u001b[0m \u001b[0;32min\u001b[0m \u001b[0mrange\u001b[0m\u001b[0;34m(\u001b[0m\u001b[0mint\u001b[0m\u001b[0;34m(\u001b[0m\u001b[0mday\u001b[0m\u001b[0;34m.\u001b[0m\u001b[0mfind\u001b[0m\u001b[0;34m(\u001b[0m\u001b[0;34m\"h6\"\u001b[0m\u001b[0;34m)\u001b[0m\u001b[0;34m.\u001b[0m\u001b[0mget_text\u001b[0m\u001b[0;34m(\u001b[0m\u001b[0;34m)\u001b[0m\u001b[0;34m.\u001b[0m\u001b[0msplit\u001b[0m\u001b[0;34m(\u001b[0m\u001b[0;34m\" \"\u001b[0m\u001b[0;34m)\u001b[0m\u001b[0;34m[\u001b[0m\u001b[0;36m1\u001b[0m\u001b[0;34m]\u001b[0m\u001b[0;34m)\u001b[0m\u001b[0;34m)\u001b[0m\u001b[0;34m:\u001b[0m\u001b[0;34m\u001b[0m\u001b[0;34m\u001b[0m\u001b[0m\n\u001b[1;32m      9\u001b[0m     \u001b[0mprint\u001b[0m\u001b[0;34m(\u001b[0m\u001b[0mgames\u001b[0m\u001b[0;34m)\u001b[0m\u001b[0;34m\u001b[0m\u001b[0;34m\u001b[0m\u001b[0m\n",
      "\u001b[0;31mTypeError\u001b[0m: 'str' object is not callable"
     ]
    }
   ],
   "metadata": {}
  },
  {
   "cell_type": "code",
   "execution_count": null,
   "source": [],
   "outputs": [],
   "metadata": {}
  }
 ],
 "metadata": {
  "orig_nbformat": 4,
  "language_info": {
   "name": "python",
   "version": "3.9.7",
   "mimetype": "text/x-python",
   "codemirror_mode": {
    "name": "ipython",
    "version": 3
   },
   "pygments_lexer": "ipython3",
   "nbconvert_exporter": "python",
   "file_extension": ".py"
  },
  "kernelspec": {
   "name": "python3",
   "display_name": "Python 3.9.6 64-bit"
  },
  "interpreter": {
   "hash": "767d51c1340bd893661ea55ea3124f6de3c7a262a8b4abca0554b478b1e2ff90"
  }
 },
 "nbformat": 4,
 "nbformat_minor": 2
}