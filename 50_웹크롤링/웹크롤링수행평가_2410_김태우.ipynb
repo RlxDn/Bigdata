{
 "cells": [
  {
   "cell_type": "markdown",
   "source": [
    "# NBA(미국 농구 리그) 웹사이트에서 다음 경기일정 찾기"
   ],
   "metadata": {}
  },
  {
   "cell_type": "markdown",
   "source": [
    "## BeautifulSoup으로 경기날짜, 장소, 팀 가져오기"
   ],
   "metadata": {}
  },
  {
   "cell_type": "code",
   "execution_count": 48,
   "source": [
    "import requests\n",
    "from bs4 import BeautifulSoup\n",
    "import pandas as pd"
   ],
   "outputs": [],
   "metadata": {}
  },
  {
   "cell_type": "code",
   "execution_count": 49,
   "source": [
    "url = 'https://www.nba.com/schedule?cal=October&region=1'\n",
    "\n",
    "header = {\n",
    "  'user-agent': 'Mozilla/5.0 (Windows NT 10.0; Win64; x64) AppleWebKit/537.36 (KHTML, like Gecko) Chrome/90.0.4430.229 Whale/2.10.123.42 Safari/537.36'\n",
    "}\n",
    "res = requests.get(url, headers=header)\n",
    "res"
   ],
   "outputs": [
    {
     "output_type": "execute_result",
     "data": {
      "text/plain": [
       "<Response [200]>"
      ]
     },
     "metadata": {},
     "execution_count": 49
    }
   ],
   "metadata": {}
  },
  {
   "cell_type": "code",
   "execution_count": 50,
   "source": [
    "soup = BeautifulSoup(res.text, 'html.parser')\n",
    "soup.head()"
   ],
   "outputs": [
    {
     "output_type": "execute_result",
     "data": {
      "text/plain": [
       "[<meta charset=\"utf-8\"/>,\n",
       " <link href=\"/site-manifest.json\" rel=\"manifest\"/>,\n",
       " <meta content=\"app-id=484672289\" name=\"apple-itunes-app\"/>,\n",
       " <meta content=\"width=device-width,initial-scale=1,minimum-scale=1,maximum-scale=5\" name=\"viewport\"/>,\n",
       " <script src=\"/newrelic/newrelic-prod.js\"></script>,\n",
       " <script defer=\"\" src=\"https://assets.adobedtm.com/82bf3c13a525/38d894c71c0b/launch-ff3828f362fb.min.js\"></script>,\n",
       " <link href=\"https://neulionms-a.akamaihd.net/nbad/player/v1/nba/site_4/styles/nlaaui.css\" rel=\"stylesheet\"/>,\n",
       " <script src=\"https://neulionms-a.akamaihd.net/nbad/player/v1/nba/site_4/scripts/nbanlaaeui.js\"></script>,\n",
       " <script>window.digitalData={\"page\":{\"pageInfo\":{\"pageName\":\"nba:schedule:main\",\"siteSection\":\"nba:schedule\",\"subSection1\":\"nba:schedule:main\",\"subSection2\":\"nba:schedule:main\",\"primaryCategory\":\"schedule\"}},\"site\":{\"productName\":\"nba:web\",\"league\":\"nba\"},\"exists\":true}</script>,\n",
       " <script src=\"/adfuel/initiator.js\"></script>,\n",
       " <title>NBA League Schedule for October | NBA.com</title>,\n",
       " <meta content=\"NBA League Schedule for the month of October\" name=\"description\"/>,\n",
       " <link href=\"/favicon.ico\" rel=\"icon\"/>,\n",
       " <link href=\"/favicon-32x32.png\" rel=\"icon\" sizes=\"32x32\" type=\"image/png\"/>,\n",
       " <link href=\"/favicon-16x16.png\" rel=\"icon\" sizes=\"16x16\" type=\"image/png\"/>,\n",
       " <link href=\"apple-touch-icon.png\" rel=\"apple-touch-icon\"/>,\n",
       " <link href=\"/apple-touch-icon.png\" rel=\"apple-touch-icon\" sizes=\"180x180\"/>,\n",
       " <link href=\"/apple-touch-icon.png\" rel=\"apple-touch-icon\" sizes=\"120x120\"/>,\n",
       " <link href=\"/apple-touch-icon.png\" rel=\"apple-touch-icon-precomposed\"/>,\n",
       " <meta content=\"#da532c\" name=\"msapplication-TileColor\"/>,\n",
       " <meta content=\"20\" name=\"next-head-count\"/>,\n",
       " <link as=\"style\" href=\"/_next/static/css/bf626b35283183bf4b22.css\" rel=\"preload\"/>,\n",
       " <link data-n-g=\"\" href=\"/_next/static/css/bf626b35283183bf4b22.css\" rel=\"stylesheet\"/>,\n",
       " <link as=\"style\" href=\"/_next/static/css/1f69a8f689158f9887a7.css\" rel=\"preload\"/>,\n",
       " <link data-n-p=\"\" href=\"/_next/static/css/1f69a8f689158f9887a7.css\" rel=\"stylesheet\"/>,\n",
       " <link as=\"style\" href=\"/_next/static/css/bdb25dee8a85a46ddd48.css\" rel=\"preload\"/>,\n",
       " <link data-n-p=\"\" href=\"/_next/static/css/bdb25dee8a85a46ddd48.css\" rel=\"stylesheet\"/>,\n",
       " <noscript data-n-css=\"\"></noscript>,\n",
       " <script defer=\"\" nomodule=\"\" src=\"/_next/static/chunks/polyfills-4064359de70ab0c6a6f5.js\"></script>,\n",
       " <script defer=\"\" src=\"/_next/static/chunks/webpack-4400710d720e5137c176.js\"></script>,\n",
       " <script defer=\"\" src=\"/_next/static/chunks/framework-ee7f4db754ed3f3ec0b7.js\"></script>,\n",
       " <script defer=\"\" src=\"/_next/static/chunks/main-3df6ff8b556f5320e88a.js\"></script>,\n",
       " <script defer=\"\" src=\"/_next/static/chunks/pages/_app-3716729e63b351c0452f.js\"></script>,\n",
       " <script defer=\"\" src=\"/_next/static/chunks/3271-987475d78fb8d7d56f59.js\"></script>,\n",
       " <script defer=\"\" src=\"/_next/static/chunks/6514-d2d19826f9fa68a4d8b9.js\"></script>,\n",
       " <script defer=\"\" src=\"/_next/static/chunks/7410-2cccc0e142690397d0f4.js\"></script>,\n",
       " <script defer=\"\" src=\"/_next/static/chunks/2191-ec929ede84d96e4d4358.js\"></script>,\n",
       " <script defer=\"\" src=\"/_next/static/chunks/7939-9f95bd84dff9e31d10e9.js\"></script>,\n",
       " <script defer=\"\" src=\"/_next/static/chunks/6285-602186e7cc568f138beb.js\"></script>,\n",
       " <script defer=\"\" src=\"/_next/static/chunks/958-9399c353dd253dd4f979.js\"></script>,\n",
       " <script defer=\"\" src=\"/_next/static/chunks/361-baf1cae357cfe1679985.js\"></script>,\n",
       " <script defer=\"\" src=\"/_next/static/chunks/pages/schedule-bbc876c676aaeb8dd5ab.js\"></script>,\n",
       " <script defer=\"\" src=\"/_next/static/H5VtaS7oFLQX8CgiNIMfW/_buildManifest.js\"></script>,\n",
       " <script defer=\"\" src=\"/_next/static/H5VtaS7oFLQX8CgiNIMfW/_ssgManifest.js\"></script>]"
      ]
     },
     "metadata": {},
     "execution_count": 50
    }
   ],
   "metadata": {}
  },
  {
   "cell_type": "markdown",
   "source": [
    "### 셀레니움으로 쿠키 팝업창 삭제"
   ],
   "metadata": {}
  },
  {
   "cell_type": "code",
   "execution_count": 51,
   "source": [
    "from selenium import webdriver\n",
    "from selenium.webdriver.common.keys import Keys\n",
    "from selenium.webdriver.common.by import By\n",
    "from selenium.webdriver.support.ui import WebDriverWait\n",
    "from selenium.webdriver.support import expected_conditions as EC\n",
    "\n",
    "driver_path = '/home/rlxdn/Downloads/chromedriver'\n",
    "driver = webdriver.Chrome(driver_path)\n",
    "driver.get(\"https://www.nba.com/schedule?cal=October&region=1\")\n",
    "\n",
    "WebDriverWait(driver, 10).until(\n",
    "  EC.presence_of_element_located(\n",
    "      (By.CSS_SELECTOR, \"#onetrust-accept-btn-handler\")\n",
    "  )\n",
    ")\n",
    "\n",
    "btn = '#onetrust-accept-btn-handler'\n",
    "driver.find_element_by_css_selector(btn).click()\n",
    "\n",
    "html = driver.page_source\n",
    "driver.close()"
   ],
   "outputs": [],
   "metadata": {}
  },
  {
   "cell_type": "code",
   "execution_count": 52,
   "source": [
    "soup = BeautifulSoup(html)"
   ],
   "outputs": [],
   "metadata": {}
  },
  {
   "cell_type": "markdown",
   "source": [
    "### 경기 날짜 가져오기"
   ],
   "metadata": {}
  },
  {
   "cell_type": "code",
   "execution_count": 53,
   "source": [
    "dates = soup.select('h4.text-sm.font-bold.leading-tight.text-cerulean')\n",
    "date_list = []\n",
    "\n",
    "for date in dates:\n",
    "  day = date.get_text()\n",
    "\n",
    "  date_list.append(day)\n",
    "date_list"
   ],
   "outputs": [
    {
     "output_type": "execute_result",
     "data": {
      "text/plain": [
       "['Sunday, October 3',\n",
       " 'Monday, October 4',\n",
       " 'Tuesday, October 5',\n",
       " 'Wednesday, October 6',\n",
       " 'Thursday, October 7',\n",
       " 'Friday, October 8',\n",
       " 'Saturday, October 9',\n",
       " 'Sunday, October 10',\n",
       " 'Monday, October 11',\n",
       " 'Tuesday, October 12',\n",
       " 'Wednesday, October 13',\n",
       " 'Thursday, October 14',\n",
       " 'Friday, October 15',\n",
       " 'Tuesday, October 19',\n",
       " 'Wednesday, October 20',\n",
       " 'Thursday, October 21',\n",
       " 'Friday, October 22',\n",
       " 'Saturday, October 23',\n",
       " 'Sunday, October 24',\n",
       " 'Monday, October 25',\n",
       " 'Tuesday, October 26',\n",
       " 'Wednesday, October 27',\n",
       " 'Thursday, October 28',\n",
       " 'Friday, October 29',\n",
       " 'Saturday, October 30',\n",
       " 'Sunday, October 31']"
      ]
     },
     "metadata": {},
     "execution_count": 53
    }
   ],
   "metadata": {}
  },
  {
   "cell_type": "markdown",
   "source": [
    "### 경기 장소 가져오기"
   ],
   "metadata": {}
  },
  {
   "cell_type": "code",
   "execution_count": 54,
   "source": [
    "spots = soup.select(\"div[class='text-sm']\")\n",
    "place_list = []\n",
    "loc_list = []\n",
    "\n",
    "i=1\n",
    "for spot in spots:\n",
    "  if i%2!=0:\n",
    "    place = spot.get_text()\n",
    "    place_list.append(place)\n",
    "  else:\n",
    "    location = spot.get_text()\n",
    "    loc_list.append(location)\n",
    "  i = i + 1\n",
    "\n",
    "print(place_list[:10])\n",
    "print(loc_list[:10])"
   ],
   "outputs": [
    {
     "output_type": "stream",
     "name": "stdout",
     "text": [
      "['STAPLES Center', 'Scotiabank Arena', 'TD Garden', 'FTX Arena', 'Target Center', 'Paycom Center', 'AT&T Center', 'Moda Center', 'Golden 1 Center', 'STAPLES Center']\n",
      "['Los Angeles,  CA', 'Toronto,  ON', 'Boston,  MA', 'Miami,  FL', 'Minneapolis,  MN', 'Oklahoma City,  OK', 'San Antonio,  TX', 'Portland,  OR', 'Sacramento,  CA', 'Los Angeles,  CA']\n"
     ]
    }
   ],
   "metadata": {}
  },
  {
   "cell_type": "markdown",
   "source": [
    "### 경기 팀 가져오기"
   ],
   "metadata": {}
  },
  {
   "cell_type": "code",
   "execution_count": 55,
   "source": [
    "teams = soup.select(\"a[class='text-cerulean']\")\n",
    "at_list = []\n",
    "ht_list = []\n",
    "\n",
    "i=1\n",
    "for team in teams:\n",
    "  if i%2!=0:\n",
    "    at = team.get_text()\n",
    "    at_list.append(at)\n",
    "  else:\n",
    "    ht = team.get_text()\n",
    "    ht_list.append(ht)\n",
    "  i = i + 1\n",
    "\n",
    "print(at_list[:10])\n",
    "print(ht_list[:10])"
   ],
   "outputs": [
    {
     "output_type": "stream",
     "name": "stdout",
     "text": [
      "['Brooklyn Nets', 'Philadelphia 76ers', 'Orlando Magic', 'Atlanta Hawks', 'New Orleans Pelicans', 'Charlotte Hornets', 'Utah Jazz', 'Golden State Warriors', 'Phoenix Suns', 'Denver Nuggets']\n",
      "['Los Angeles Lakers', 'Toronto Raptors', 'Boston Celtics', 'Miami Heat', 'Minnesota Timberwolves', 'Oklahoma City Thunder', 'San Antonio Spurs', 'Portland Trail Blazers', 'Sacramento Kings', 'LA Clippers']\n"
     ]
    }
   ],
   "metadata": {}
  },
  {
   "cell_type": "markdown",
   "source": [
    "### 경기 시간 가져오기"
   ],
   "metadata": {}
  },
  {
   "cell_type": "code",
   "execution_count": 56,
   "source": [
    "gtimes = soup.select('span.text-sm.uppercase')\n",
    "gtime_list = []\n",
    "\n",
    "for gtime in gtimes:\n",
    "  time = gtime.get_text()\n",
    "  gtime_list.append(time)\n",
    "print(gtime_list[:10])"
   ],
   "outputs": [
    {
     "output_type": "stream",
     "name": "stdout",
     "text": [
      "['3:30 pm ET', '7:00 pm ET', '7:30 pm ET', '7:30 pm ET', '8:00 pm ET', '8:00 pm ET', '8:30 pm ET', '10:00 pm ET', '10:00 pm ET', '10:30 pm ET']\n"
     ]
    }
   ],
   "metadata": {}
  },
  {
   "cell_type": "markdown",
   "source": [
    "### 데이터 프레임 생성"
   ],
   "metadata": {}
  },
  {
   "cell_type": "code",
   "execution_count": 57,
   "source": [
    "columns = ['날짜', '장소', '지역', '어웨이팀', '홈팀', '경기시간']\n",
    "df = pd.DataFrame(list(zip(date_list, place_list, loc_list, at_list, ht_list, gtime_list)), columns=columns)\n",
    "df"
   ],
   "outputs": [
    {
     "output_type": "execute_result",
     "data": {
      "text/html": [
       "<div>\n",
       "<style scoped>\n",
       "    .dataframe tbody tr th:only-of-type {\n",
       "        vertical-align: middle;\n",
       "    }\n",
       "\n",
       "    .dataframe tbody tr th {\n",
       "        vertical-align: top;\n",
       "    }\n",
       "\n",
       "    .dataframe thead th {\n",
       "        text-align: right;\n",
       "    }\n",
       "</style>\n",
       "<table border=\"1\" class=\"dataframe\">\n",
       "  <thead>\n",
       "    <tr style=\"text-align: right;\">\n",
       "      <th></th>\n",
       "      <th>날짜</th>\n",
       "      <th>장소</th>\n",
       "      <th>지역</th>\n",
       "      <th>어웨이팀</th>\n",
       "      <th>홈팀</th>\n",
       "      <th>경기시간</th>\n",
       "    </tr>\n",
       "  </thead>\n",
       "  <tbody>\n",
       "    <tr>\n",
       "      <th>0</th>\n",
       "      <td>Sunday, October 3</td>\n",
       "      <td>STAPLES Center</td>\n",
       "      <td>Los Angeles,  CA</td>\n",
       "      <td>Brooklyn Nets</td>\n",
       "      <td>Los Angeles Lakers</td>\n",
       "      <td>3:30 pm ET</td>\n",
       "    </tr>\n",
       "    <tr>\n",
       "      <th>1</th>\n",
       "      <td>Monday, October 4</td>\n",
       "      <td>Scotiabank Arena</td>\n",
       "      <td>Toronto,  ON</td>\n",
       "      <td>Philadelphia 76ers</td>\n",
       "      <td>Toronto Raptors</td>\n",
       "      <td>7:00 pm ET</td>\n",
       "    </tr>\n",
       "    <tr>\n",
       "      <th>2</th>\n",
       "      <td>Tuesday, October 5</td>\n",
       "      <td>TD Garden</td>\n",
       "      <td>Boston,  MA</td>\n",
       "      <td>Orlando Magic</td>\n",
       "      <td>Boston Celtics</td>\n",
       "      <td>7:30 pm ET</td>\n",
       "    </tr>\n",
       "    <tr>\n",
       "      <th>3</th>\n",
       "      <td>Wednesday, October 6</td>\n",
       "      <td>FTX Arena</td>\n",
       "      <td>Miami,  FL</td>\n",
       "      <td>Atlanta Hawks</td>\n",
       "      <td>Miami Heat</td>\n",
       "      <td>7:30 pm ET</td>\n",
       "    </tr>\n",
       "    <tr>\n",
       "      <th>4</th>\n",
       "      <td>Thursday, October 7</td>\n",
       "      <td>Target Center</td>\n",
       "      <td>Minneapolis,  MN</td>\n",
       "      <td>New Orleans Pelicans</td>\n",
       "      <td>Minnesota Timberwolves</td>\n",
       "      <td>8:00 pm ET</td>\n",
       "    </tr>\n",
       "    <tr>\n",
       "      <th>5</th>\n",
       "      <td>Friday, October 8</td>\n",
       "      <td>Paycom Center</td>\n",
       "      <td>Oklahoma City,  OK</td>\n",
       "      <td>Charlotte Hornets</td>\n",
       "      <td>Oklahoma City Thunder</td>\n",
       "      <td>8:00 pm ET</td>\n",
       "    </tr>\n",
       "    <tr>\n",
       "      <th>6</th>\n",
       "      <td>Saturday, October 9</td>\n",
       "      <td>AT&amp;T Center</td>\n",
       "      <td>San Antonio,  TX</td>\n",
       "      <td>Utah Jazz</td>\n",
       "      <td>San Antonio Spurs</td>\n",
       "      <td>8:30 pm ET</td>\n",
       "    </tr>\n",
       "    <tr>\n",
       "      <th>7</th>\n",
       "      <td>Sunday, October 10</td>\n",
       "      <td>Moda Center</td>\n",
       "      <td>Portland,  OR</td>\n",
       "      <td>Golden State Warriors</td>\n",
       "      <td>Portland Trail Blazers</td>\n",
       "      <td>10:00 pm ET</td>\n",
       "    </tr>\n",
       "    <tr>\n",
       "      <th>8</th>\n",
       "      <td>Monday, October 11</td>\n",
       "      <td>Golden 1 Center</td>\n",
       "      <td>Sacramento,  CA</td>\n",
       "      <td>Phoenix Suns</td>\n",
       "      <td>Sacramento Kings</td>\n",
       "      <td>10:00 pm ET</td>\n",
       "    </tr>\n",
       "    <tr>\n",
       "      <th>9</th>\n",
       "      <td>Tuesday, October 12</td>\n",
       "      <td>STAPLES Center</td>\n",
       "      <td>Los Angeles,  CA</td>\n",
       "      <td>Denver Nuggets</td>\n",
       "      <td>LA Clippers</td>\n",
       "      <td>10:30 pm ET</td>\n",
       "    </tr>\n",
       "    <tr>\n",
       "      <th>10</th>\n",
       "      <td>Wednesday, October 13</td>\n",
       "      <td>Madison Square Garden</td>\n",
       "      <td>New York,  NY</td>\n",
       "      <td>Indiana Pacers</td>\n",
       "      <td>New York Knicks</td>\n",
       "      <td>7:30 pm ET</td>\n",
       "    </tr>\n",
       "    <tr>\n",
       "      <th>11</th>\n",
       "      <td>Thursday, October 14</td>\n",
       "      <td>United Center</td>\n",
       "      <td>Chicago,  IL</td>\n",
       "      <td>Cleveland Cavaliers</td>\n",
       "      <td>Chicago Bulls</td>\n",
       "      <td>8:00 pm ET</td>\n",
       "    </tr>\n",
       "    <tr>\n",
       "      <th>12</th>\n",
       "      <td>Friday, October 15</td>\n",
       "      <td>Toyota Center</td>\n",
       "      <td>Houston,  TX</td>\n",
       "      <td>Washington Wizards</td>\n",
       "      <td>Houston Rockets</td>\n",
       "      <td>8:00 pm ET</td>\n",
       "    </tr>\n",
       "    <tr>\n",
       "      <th>13</th>\n",
       "      <td>Tuesday, October 19</td>\n",
       "      <td>FedExForum</td>\n",
       "      <td>Memphis,  TN</td>\n",
       "      <td>Milwaukee Bucks</td>\n",
       "      <td>Memphis Grizzlies</td>\n",
       "      <td>8:00 pm ET</td>\n",
       "    </tr>\n",
       "    <tr>\n",
       "      <th>14</th>\n",
       "      <td>Wednesday, October 20</td>\n",
       "      <td>Little Caesars Arena</td>\n",
       "      <td>Detroit,  MI</td>\n",
       "      <td>San Antonio Spurs</td>\n",
       "      <td>Detroit Pistons</td>\n",
       "      <td>6:00 pm ET</td>\n",
       "    </tr>\n",
       "    <tr>\n",
       "      <th>15</th>\n",
       "      <td>Thursday, October 21</td>\n",
       "      <td>State Farm Arena</td>\n",
       "      <td>Atlanta,  GA</td>\n",
       "      <td>Cleveland Cavaliers</td>\n",
       "      <td>Atlanta Hawks</td>\n",
       "      <td>7:30 pm ET</td>\n",
       "    </tr>\n",
       "    <tr>\n",
       "      <th>16</th>\n",
       "      <td>Friday, October 22</td>\n",
       "      <td>Smoothie King Center</td>\n",
       "      <td>New Orleans,  LA</td>\n",
       "      <td>Orlando Magic</td>\n",
       "      <td>New Orleans Pelicans</td>\n",
       "      <td>8:00 pm ET</td>\n",
       "    </tr>\n",
       "    <tr>\n",
       "      <th>17</th>\n",
       "      <td>Saturday, October 23</td>\n",
       "      <td>American Airlines Center</td>\n",
       "      <td>Dallas,  TX</td>\n",
       "      <td>Utah Jazz</td>\n",
       "      <td>Dallas Mavericks</td>\n",
       "      <td>8:30 pm ET</td>\n",
       "    </tr>\n",
       "    <tr>\n",
       "      <th>18</th>\n",
       "      <td>Sunday, October 24</td>\n",
       "      <td>Chase Center</td>\n",
       "      <td>San Francisco,  CA</td>\n",
       "      <td>Denver Nuggets</td>\n",
       "      <td>Golden State Warriors</td>\n",
       "      <td>10:00 pm ET</td>\n",
       "    </tr>\n",
       "    <tr>\n",
       "      <th>19</th>\n",
       "      <td>Monday, October 25</td>\n",
       "      <td>Footprint Center</td>\n",
       "      <td>Phoenix,  AZ</td>\n",
       "      <td>Los Angeles Lakers</td>\n",
       "      <td>Phoenix Suns</td>\n",
       "      <td>10:00 pm ET</td>\n",
       "    </tr>\n",
       "    <tr>\n",
       "      <th>20</th>\n",
       "      <td>Tuesday, October 26</td>\n",
       "      <td>STAPLES Center</td>\n",
       "      <td>Los Angeles,  CA</td>\n",
       "      <td>Sacramento Kings</td>\n",
       "      <td>LA Clippers</td>\n",
       "      <td>10:30 pm ET</td>\n",
       "    </tr>\n",
       "    <tr>\n",
       "      <th>21</th>\n",
       "      <td>Wednesday, October 27</td>\n",
       "      <td>Spectrum Center</td>\n",
       "      <td>Charlotte,  NC</td>\n",
       "      <td>Memphis Grizzlies</td>\n",
       "      <td>Charlotte Hornets</td>\n",
       "      <td>7:00 pm ET</td>\n",
       "    </tr>\n",
       "    <tr>\n",
       "      <th>22</th>\n",
       "      <td>Thursday, October 28</td>\n",
       "      <td>Wells Fargo Center</td>\n",
       "      <td>Philadelphia,  PA</td>\n",
       "      <td>Toronto Raptors</td>\n",
       "      <td>Philadelphia 76ers</td>\n",
       "      <td>7:00 pm ET</td>\n",
       "    </tr>\n",
       "    <tr>\n",
       "      <th>23</th>\n",
       "      <td>Friday, October 29</td>\n",
       "      <td>Toyota Center</td>\n",
       "      <td>Houston,  TX</td>\n",
       "      <td>Miami Heat</td>\n",
       "      <td>Houston Rockets</td>\n",
       "      <td>10:00 pm ET</td>\n",
       "    </tr>\n",
       "    <tr>\n",
       "      <th>24</th>\n",
       "      <td>Saturday, October 30</td>\n",
       "      <td>Rocket Mortgage FieldHouse</td>\n",
       "      <td>Cleveland,  OH</td>\n",
       "      <td>Indiana Pacers</td>\n",
       "      <td>Cleveland Cavaliers</td>\n",
       "      <td>7:00 pm ET</td>\n",
       "    </tr>\n",
       "    <tr>\n",
       "      <th>25</th>\n",
       "      <td>Sunday, October 31</td>\n",
       "      <td>Barclays Center</td>\n",
       "      <td>Brooklyn,  NY</td>\n",
       "      <td>Milwaukee Bucks</td>\n",
       "      <td>Brooklyn Nets</td>\n",
       "      <td>7:30 pm ET</td>\n",
       "    </tr>\n",
       "  </tbody>\n",
       "</table>\n",
       "</div>"
      ],
      "text/plain": [
       "                       날짜                          장소                  지역  \\\n",
       "0       Sunday, October 3              STAPLES Center    Los Angeles,  CA   \n",
       "1       Monday, October 4            Scotiabank Arena        Toronto,  ON   \n",
       "2      Tuesday, October 5                   TD Garden         Boston,  MA   \n",
       "3    Wednesday, October 6                   FTX Arena          Miami,  FL   \n",
       "4     Thursday, October 7               Target Center    Minneapolis,  MN   \n",
       "5       Friday, October 8               Paycom Center  Oklahoma City,  OK   \n",
       "6     Saturday, October 9                 AT&T Center    San Antonio,  TX   \n",
       "7      Sunday, October 10                 Moda Center       Portland,  OR   \n",
       "8      Monday, October 11             Golden 1 Center     Sacramento,  CA   \n",
       "9     Tuesday, October 12              STAPLES Center    Los Angeles,  CA   \n",
       "10  Wednesday, October 13       Madison Square Garden       New York,  NY   \n",
       "11   Thursday, October 14               United Center        Chicago,  IL   \n",
       "12     Friday, October 15               Toyota Center        Houston,  TX   \n",
       "13    Tuesday, October 19                  FedExForum        Memphis,  TN   \n",
       "14  Wednesday, October 20        Little Caesars Arena        Detroit,  MI   \n",
       "15   Thursday, October 21            State Farm Arena        Atlanta,  GA   \n",
       "16     Friday, October 22        Smoothie King Center    New Orleans,  LA   \n",
       "17   Saturday, October 23    American Airlines Center         Dallas,  TX   \n",
       "18     Sunday, October 24                Chase Center  San Francisco,  CA   \n",
       "19     Monday, October 25            Footprint Center        Phoenix,  AZ   \n",
       "20    Tuesday, October 26              STAPLES Center    Los Angeles,  CA   \n",
       "21  Wednesday, October 27             Spectrum Center      Charlotte,  NC   \n",
       "22   Thursday, October 28          Wells Fargo Center   Philadelphia,  PA   \n",
       "23     Friday, October 29               Toyota Center        Houston,  TX   \n",
       "24   Saturday, October 30  Rocket Mortgage FieldHouse      Cleveland,  OH   \n",
       "25     Sunday, October 31             Barclays Center       Brooklyn,  NY   \n",
       "\n",
       "                     어웨이팀                      홈팀         경기시간  \n",
       "0           Brooklyn Nets      Los Angeles Lakers   3:30 pm ET  \n",
       "1      Philadelphia 76ers         Toronto Raptors   7:00 pm ET  \n",
       "2           Orlando Magic          Boston Celtics   7:30 pm ET  \n",
       "3           Atlanta Hawks              Miami Heat   7:30 pm ET  \n",
       "4    New Orleans Pelicans  Minnesota Timberwolves   8:00 pm ET  \n",
       "5       Charlotte Hornets   Oklahoma City Thunder   8:00 pm ET  \n",
       "6               Utah Jazz       San Antonio Spurs   8:30 pm ET  \n",
       "7   Golden State Warriors  Portland Trail Blazers  10:00 pm ET  \n",
       "8            Phoenix Suns        Sacramento Kings  10:00 pm ET  \n",
       "9          Denver Nuggets             LA Clippers  10:30 pm ET  \n",
       "10         Indiana Pacers         New York Knicks   7:30 pm ET  \n",
       "11    Cleveland Cavaliers           Chicago Bulls   8:00 pm ET  \n",
       "12     Washington Wizards         Houston Rockets   8:00 pm ET  \n",
       "13        Milwaukee Bucks       Memphis Grizzlies   8:00 pm ET  \n",
       "14      San Antonio Spurs         Detroit Pistons   6:00 pm ET  \n",
       "15    Cleveland Cavaliers           Atlanta Hawks   7:30 pm ET  \n",
       "16          Orlando Magic    New Orleans Pelicans   8:00 pm ET  \n",
       "17              Utah Jazz        Dallas Mavericks   8:30 pm ET  \n",
       "18         Denver Nuggets   Golden State Warriors  10:00 pm ET  \n",
       "19     Los Angeles Lakers            Phoenix Suns  10:00 pm ET  \n",
       "20       Sacramento Kings             LA Clippers  10:30 pm ET  \n",
       "21      Memphis Grizzlies       Charlotte Hornets   7:00 pm ET  \n",
       "22        Toronto Raptors      Philadelphia 76ers   7:00 pm ET  \n",
       "23             Miami Heat         Houston Rockets  10:00 pm ET  \n",
       "24         Indiana Pacers     Cleveland Cavaliers   7:00 pm ET  \n",
       "25        Milwaukee Bucks           Brooklyn Nets   7:30 pm ET  "
      ]
     },
     "metadata": {},
     "execution_count": 57
    }
   ],
   "metadata": {}
  },
  {
   "cell_type": "code",
   "execution_count": 58,
   "source": [
    "print(f\"현지시간 기준 {df['날짜'][0]}일 {df['지역'][0]}의 {df['장소'][0]}에서 {df['어웨이팀'][0]}과 {df['홈팀'][0]}의 경기가 {df['경기시간'][0]}에 예정되어 있습니다.\")"
   ],
   "outputs": [
    {
     "output_type": "stream",
     "name": "stdout",
     "text": [
      "현지시간 기준 Sunday, October 3일 Los Angeles,  CA의 STAPLES Center에서 Brooklyn Nets과 Los Angeles Lakers의 경기가 3:30 pm ET에 예정되어 있습니다.\n"
     ]
    }
   ],
   "metadata": {}
  },
  {
   "cell_type": "code",
   "execution_count": null,
   "source": [],
   "outputs": [],
   "metadata": {}
  }
 ],
 "metadata": {
  "orig_nbformat": 4,
  "language_info": {
   "name": "python",
   "version": "3.9.7",
   "mimetype": "text/x-python",
   "codemirror_mode": {
    "name": "ipython",
    "version": 3
   },
   "pygments_lexer": "ipython3",
   "nbconvert_exporter": "python",
   "file_extension": ".py"
  },
  "kernelspec": {
   "name": "python3",
   "display_name": "Python 3.9.6 64-bit"
  },
  "interpreter": {
   "hash": "767d51c1340bd893661ea55ea3124f6de3c7a262a8b4abca0554b478b1e2ff90"
  }
 },
 "nbformat": 4,
 "nbformat_minor": 2
}