{
 "cells": [
  {
   "cell_type": "markdown",
   "source": [
    "# NBA(미국 농구 리그) 웹사이트에서 다음 경기일정 찾기"
   ],
   "metadata": {}
  },
  {
   "cell_type": "code",
   "execution_count": 8,
   "source": [
    "import time\n",
    "from selenium import webdriver\n",
    "from selenium.webdriver.common.keys import Keys"
   ],
   "outputs": [],
   "metadata": {}
  },
  {
   "cell_type": "markdown",
   "source": [
    "## 셀레니움을 사용해 주별 경기날짜, 시간, 장소, 경기 팀, 홈팀 정보 수집"
   ],
   "metadata": {}
  },
  {
   "cell_type": "code",
   "execution_count": 14,
   "source": [
    "from selenium.webdriver.common.by import By\n",
    "from selenium.webdriver.support.ui import WebDriverWait\n",
    "from selenium.webdriver.support import expected_conditions as EC\n",
    "\n",
    "driver_path = '/home/rlxdn/Downloads/chromedriver'\n",
    "driver = webdriver.Chrome(driver_path)\n",
    "driver.get(\"https://www.nba.com/schedule?cal=October&region=1\")\n",
    "\n",
    "WebDriverWait(driver, 10).until(\n",
    "  EC.presence_of_element_located(\n",
    "      (By.CSS_SELECTOR, \".GameScheduleWeek_gswHeader__3i3gT\")\n",
    "  )\n",
    ")\n",
    "\n",
    "date = '#__next > div.Layout_justNav__3CIEq > div.max-w-screen-xl.mx-auto.p-0.md\\:p-7.xxl\\:px-0 > section > div > div:nth-child(3) > div:nth-child(1) > div:nth-child(2) > div.flex-grow-1.sm\\:flex-grow-3.lg\\:flex-grow-4 > div.flex.flex-col > div:nth-child(1) > div:nth-child(1) > div.pb-5.pr-5.min-w-1\\/2.xl\\:min-w-4\\/10 > span'\n",
    "a = driver.find_element_by_css_selector(date)\n",
    "a.getText()\n",
    "driver.close()"
   ],
   "outputs": [
    {
     "output_type": "error",
     "ename": "AttributeError",
     "evalue": "'WebElement' object has no attribute 'getText'",
     "traceback": [
      "\u001b[0;31m---------------------------------------------------------------------------\u001b[0m",
      "\u001b[0;31mAttributeError\u001b[0m                            Traceback (most recent call last)",
      "\u001b[0;32m/tmp/ipykernel_4537/770148770.py\u001b[0m in \u001b[0;36m<module>\u001b[0;34m\u001b[0m\n\u001b[1;32m     15\u001b[0m \u001b[0mdate\u001b[0m \u001b[0;34m=\u001b[0m \u001b[0;34m'#__next > div.Layout_justNav__3CIEq > div.max-w-screen-xl.mx-auto.p-0.md\\:p-7.xxl\\:px-0 > section > div > div:nth-child(3) > div:nth-child(1) > div:nth-child(2) > div.flex-grow-1.sm\\:flex-grow-3.lg\\:flex-grow-4 > div.flex.flex-col > div:nth-child(1) > div:nth-child(1) > div.pb-5.pr-5.min-w-1\\/2.xl\\:min-w-4\\/10 > span'\u001b[0m\u001b[0;34m\u001b[0m\u001b[0;34m\u001b[0m\u001b[0m\n\u001b[1;32m     16\u001b[0m \u001b[0ma\u001b[0m \u001b[0;34m=\u001b[0m \u001b[0mdriver\u001b[0m\u001b[0;34m.\u001b[0m\u001b[0mfind_element_by_css_selector\u001b[0m\u001b[0;34m(\u001b[0m\u001b[0mdate\u001b[0m\u001b[0;34m)\u001b[0m\u001b[0;34m\u001b[0m\u001b[0;34m\u001b[0m\u001b[0m\n\u001b[0;32m---> 17\u001b[0;31m \u001b[0ma\u001b[0m\u001b[0;34m.\u001b[0m\u001b[0mgetText\u001b[0m\u001b[0;34m(\u001b[0m\u001b[0;34m)\u001b[0m\u001b[0;34m\u001b[0m\u001b[0;34m\u001b[0m\u001b[0m\n\u001b[0m\u001b[1;32m     18\u001b[0m \u001b[0mdriver\u001b[0m\u001b[0;34m.\u001b[0m\u001b[0mclose\u001b[0m\u001b[0;34m(\u001b[0m\u001b[0;34m)\u001b[0m\u001b[0;34m\u001b[0m\u001b[0;34m\u001b[0m\u001b[0m\n",
      "\u001b[0;31mAttributeError\u001b[0m: 'WebElement' object has no attribute 'getText'"
     ]
    }
   ],
   "metadata": {}
  },
  {
   "cell_type": "code",
   "execution_count": null,
   "source": [],
   "outputs": [],
   "metadata": {}
  }
 ],
 "metadata": {
  "orig_nbformat": 4,
  "language_info": {
   "name": "python",
   "version": "3.9.6",
   "mimetype": "text/x-python",
   "codemirror_mode": {
    "name": "ipython",
    "version": 3
   },
   "pygments_lexer": "ipython3",
   "nbconvert_exporter": "python",
   "file_extension": ".py"
  },
  "kernelspec": {
   "name": "python3",
   "display_name": "Python 3.9.6 64-bit"
  },
  "interpreter": {
   "hash": "767d51c1340bd893661ea55ea3124f6de3c7a262a8b4abca0554b478b1e2ff90"
  }
 },
 "nbformat": 4,
 "nbformat_minor": 2
}