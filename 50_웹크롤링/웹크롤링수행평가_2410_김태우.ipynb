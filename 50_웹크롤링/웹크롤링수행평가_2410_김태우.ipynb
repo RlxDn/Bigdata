{
 "cells": [
  {
   "cell_type": "markdown",
   "source": [
    "# NBA(미국 농구 리그) 웹사이트에서 다음 경기일정 찾기"
   ],
   "metadata": {}
  },
  {
   "cell_type": "code",
   "execution_count": 34,
   "source": [
    "from bs4 import BeautifulSoup\n",
    "import pandas as pd"
   ],
   "outputs": [],
   "metadata": {}
  },
  {
   "cell_type": "markdown",
   "source": [
    "## Selenium을 활용해 쿠키 팝업창 제거하고 html 저장"
   ],
   "metadata": {}
  },
  {
   "cell_type": "code",
   "execution_count": 35,
   "source": [
    "from selenium import webdriver\n",
    "from selenium.webdriver.common.by import By\n",
    "from selenium.webdriver.support.ui import WebDriverWait\n",
    "from selenium.webdriver.support import expected_conditions as EC\n",
    "\n",
    "driver_path = '/home/rlxdn/Downloads/chromedriver'\n",
    "driver = webdriver.Chrome(driver_path)\n",
    "driver.get(\"https://www.nba.com/schedule?cal=October&region=1\")\n",
    "\n",
    "WebDriverWait(driver, 10).until(\n",
    "  EC.presence_of_element_located(\n",
    "      (By.CSS_SELECTOR, \"#onetrust-accept-btn-handler\")\n",
    "  )\n",
    ")\n",
    "\n",
    "btn = '#onetrust-accept-btn-handler'\n",
    "driver.find_element_by_css_selector(btn).click()\n",
    "\n",
    "html = driver.page_source\n",
    "driver.close()"
   ],
   "outputs": [],
   "metadata": {}
  },
  {
   "cell_type": "code",
   "execution_count": 36,
   "source": [
    "soup = BeautifulSoup(html)"
   ],
   "outputs": [],
   "metadata": {}
  },
  {
   "cell_type": "markdown",
   "source": [
    "### select와 반복문을 활용해 경기날짜별 경기의 데이터 가져오기(경기 시간, 경기 지역과 장소, 경기 시간, 경기 팀)"
   ],
   "metadata": {}
  },
  {
   "cell_type": "code",
   "execution_count": 37,
   "source": [
    "days = soup.select(\"div.flex.flex-col.pt-5.border-b.border-concrete\")\n",
    "games_list = []\n",
    "\n",
    "for day in days:\n",
    "  date = day.find(\"h4\").get_text()\n",
    "\n",
    "  for i in range(int(day.find(\"h6\").get_text().split(\" \")[1])):\n",
    "    game = day.select(\"div.py-5.border-t.border-concrete.flex.flex-col\")[i]\n",
    "    gtime = game.select_one(\"span\").text\n",
    "\n",
    "    for j in range(2):\n",
    "      team = game.select(\"a.text-cerulean\")[j].text\n",
    "      if (j+1)%2!=0:\n",
    "        ateam = team\n",
    "      else:\n",
    "        hteam = team\n",
    "\n",
    "    for k in range(2):\n",
    "      spot = game.select(\"div[class='text-sm']\")[k].text\n",
    "      if (k+1)%2==0:\n",
    "        arena = spot\n",
    "      else:\n",
    "        location = spot\n",
    "        \n",
    "    games_list.append([date, gtime, ateam, hteam, arena, location])\n",
    "print(games_list)"
   ],
   "outputs": [
    {
     "output_type": "stream",
     "name": "stdout",
     "text": [
      "[['Sunday, October 3', '3:30 pm ET', 'Brooklyn Nets', 'Los Angeles Lakers', 'Los Angeles,  CA', 'STAPLES Center'], ['Monday, October 4', '7:00 pm ET', 'Philadelphia 76ers', 'Toronto Raptors', 'Toronto,  ON', 'Scotiabank Arena'], ['Monday, October 4', '7:30 pm ET', 'Orlando Magic', 'Boston Celtics', 'Boston,  MA', 'TD Garden'], ['Monday, October 4', '7:30 pm ET', 'Atlanta Hawks', 'Miami Heat', 'Miami,  FL', 'FTX Arena'], ['Monday, October 4', '8:00 pm ET', 'New Orleans Pelicans', 'Minnesota Timberwolves', 'Minneapolis,  MN', 'Target Center'], ['Monday, October 4', '8:00 pm ET', 'Charlotte Hornets', 'Oklahoma City Thunder', 'Oklahoma City,  OK', 'Paycom Center'], ['Monday, October 4', '8:30 pm ET', 'Utah Jazz', 'San Antonio Spurs', 'San Antonio,  TX', 'AT&T Center'], ['Monday, October 4', '10:00 pm ET', 'Golden State Warriors', 'Portland Trail Blazers', 'Portland,  OR', 'Moda Center'], ['Monday, October 4', '10:00 pm ET', 'Phoenix Suns', 'Sacramento Kings', 'Sacramento,  CA', 'Golden 1 Center'], ['Monday, October 4', '10:30 pm ET', 'Denver Nuggets', 'LA Clippers', 'Los Angeles,  CA', 'STAPLES Center'], ['Tuesday, October 5', '7:30 pm ET', 'Indiana Pacers', 'New York Knicks', 'New York,  NY', 'Madison Square Garden'], ['Tuesday, October 5', '8:00 pm ET', 'Cleveland Cavaliers', 'Chicago Bulls', 'Chicago,  IL', 'United Center'], ['Tuesday, October 5', '8:00 pm ET', 'Washington Wizards', 'Houston Rockets', 'Houston,  TX', 'Toyota Center'], ['Tuesday, October 5', '8:00 pm ET', 'Milwaukee Bucks', 'Memphis Grizzlies', 'Memphis,  TN', 'FedExForum'], ['Wednesday, October 6', '6:00 pm ET', 'San Antonio Spurs', 'Detroit Pistons', 'Detroit,  MI', 'Little Caesars Arena'], ['Wednesday, October 6', '7:30 pm ET', 'Cleveland Cavaliers', 'Atlanta Hawks', 'Atlanta,  GA', 'State Farm Arena'], ['Wednesday, October 6', '8:00 pm ET', 'Orlando Magic', 'New Orleans Pelicans', 'New Orleans,  LA', 'Smoothie King Center'], ['Wednesday, October 6', '8:30 pm ET', 'Utah Jazz', 'Dallas Mavericks', 'Dallas,  TX', 'American Airlines Center'], ['Wednesday, October 6', '10:00 pm ET', 'Denver Nuggets', 'Golden State Warriors', 'San Francisco,  CA', 'Chase Center'], ['Wednesday, October 6', '10:00 pm ET', 'Los Angeles Lakers', 'Phoenix Suns', 'Phoenix,  AZ', 'Footprint Center'], ['Wednesday, October 6', '10:30 pm ET', 'Sacramento Kings', 'LA Clippers', 'Los Angeles,  CA', 'STAPLES Center'], ['Thursday, October 7', '7:00 pm ET', 'Memphis Grizzlies', 'Charlotte Hornets', 'Charlotte,  NC', 'Spectrum Center'], ['Thursday, October 7', '7:00 pm ET', 'Toronto Raptors', 'Philadelphia 76ers', 'Philadelphia,  PA', 'Wells Fargo Center'], ['Thursday, October 7', '10:00 pm ET', 'Miami Heat', 'Houston Rockets', 'Houston,  TX', 'Toyota Center'], ['Friday, October 8', '7:00 pm ET', 'Indiana Pacers', 'Cleveland Cavaliers', 'Cleveland,  OH', 'Rocket Mortgage FieldHouse'], ['Friday, October 8', '7:30 pm ET', 'Milwaukee Bucks', 'Brooklyn Nets', 'Brooklyn,  NY', 'Barclays Center'], ['Friday, October 8', '8:00 pm ET', 'New Orleans Pelicans', 'Chicago Bulls', 'Chicago,  IL', 'United Center'], ['Friday, October 8', '8:30 pm ET', 'LA Clippers', 'Dallas Mavericks', 'Dallas,  TX', 'American Airlines Center'], ['Friday, October 8', '8:30 pm ET', 'Miami Heat', 'San Antonio Spurs', 'San Antonio,  TX', 'AT&T Center'], ['Friday, October 8', '9:00 pm ET', 'Minnesota Timberwolves', 'Denver Nuggets', 'Denver,  CO', 'Ball Arena'], ['Friday, October 8', '10:00 pm ET', 'Los Angeles Lakers', 'Golden State Warriors', 'San Francisco,  CA', 'Chase Center'], ['Saturday, October 9', '7:00 pm ET', 'Toronto Raptors', 'Boston Celtics', 'Boston,  MA', 'TD Garden'], ['Saturday, October 9', '7:00 pm ET', 'New York Knicks', 'Washington Wizards', 'Washington,  DC', 'Capital One Arena'], ['Saturday, October 9', '8:00 pm ET', 'Atlanta Hawks', 'Memphis Grizzlies', 'Memphis,  TN', 'FedExForum'], ['Sunday, October 10', '6:00 pm ET', 'San Antonio Spurs', 'Orlando Magic', 'Orlando,  FL', 'Amway Center'], ['Sunday, October 10', '7:00 pm ET', 'Chicago Bulls', 'Cleveland Cavaliers', 'Cleveland,  OH', 'Rocket Mortgage FieldHouse'], ['Sunday, October 10', '7:30 pm ET', 'Oklahoma City Thunder', 'Milwaukee Bucks', 'Milwaukee,  WI', 'Fiserv Forum'], ['Sunday, October 10', '10:00 pm ET', 'Phoenix Suns', 'Los Angeles Lakers', 'Los Angeles,  CA', 'STAPLES Center'], ['Monday, October 11', '7:00 pm ET', 'Houston Rockets', 'Toronto Raptors', 'Toronto,  ON', 'Scotiabank Arena'], ['Monday, October 11', '7:30 pm ET', 'Charlotte Hornets', 'Miami Heat', 'Miami,  FL', 'FTX Arena'], ['Monday, October 11', '8:00 pm ET', 'Brooklyn Nets', 'Philadelphia 76ers', 'Philadelphia,  PA', 'Wells Fargo Center'], ['Monday, October 11', '8:00 pm ET', 'Detroit Pistons', 'Memphis Grizzlies', 'Memphis,  TN', 'FedExForum'], ['Monday, October 11', '10:00 pm ET', 'New Orleans Pelicans', 'Utah Jazz', 'Salt Lake City,  UT', 'Vivint Arena'], ['Monday, October 11', '10:00 pm ET', 'Sacramento Kings', 'Portland Trail Blazers', 'Portland,  OR', 'Moda Center'], ['Monday, October 11', '10:30 pm ET', 'Minnesota Timberwolves', 'LA Clippers', 'Ontario,  CA', 'Toyota Arena'], ['Tuesday, October 12', '7:00 pm ET', 'Toronto Raptors', 'Washington Wizards', 'Washington,  DC', 'Capital One Arena'], ['Tuesday, October 12', '10:30 pm ET', 'Golden State Warriors', 'Los Angeles Lakers', 'Los Angeles,  CA', 'STAPLES Center'], ['Wednesday, October 13', '6:30 pm ET', 'Dallas Mavericks', 'Charlotte Hornets', 'Charlotte,  NC', 'Spectrum Center'], ['Wednesday, October 13', '7:00 pm ET', 'Memphis Grizzlies', 'Indiana Pacers', 'Indianapolis,  IN', 'Bankers Life Fieldhouse'], ['Wednesday, October 13', '7:00 pm ET', 'Boston Celtics', 'Orlando Magic', 'Orlando,  FL', 'Amway Center'], ['Wednesday, October 13', '7:30 pm ET', 'Detroit Pistons', 'New York Knicks', 'New York,  NY', 'Madison Square Garden'], ['Wednesday, October 13', '8:00 pm ET', 'Denver Nuggets', 'Oklahoma City Thunder', 'Oklahoma City,  OK', 'Paycom Center'], ['Wednesday, October 13', '9:00 pm ET', 'Milwaukee Bucks', 'Utah Jazz', 'Salt Lake City,  UT', 'Vivint Arena'], ['Wednesday, October 13', '10:00 pm ET', 'Portland Trail Blazers', 'Phoenix Suns', 'Phoenix,  AZ', 'Footprint Center'], ['Thursday, October 14', '7:00 pm ET', 'Miami Heat', 'Atlanta Hawks', 'Atlanta,  GA', 'State Farm Arena'], ['Thursday, October 14', '7:30 pm ET', 'Minnesota Timberwolves', 'Brooklyn Nets', 'Brooklyn,  NY', 'Barclays Center'], ['Thursday, October 14', '8:00 pm ET', 'Denver Nuggets', 'Oklahoma City Thunder', 'Tulsa,  OK', 'BOK Center'], ['Thursday, October 14', '10:00 pm ET', 'Los Angeles Lakers', 'Sacramento Kings', 'Sacramento,  CA', 'Golden 1 Center'], ['Friday, October 15', '6:30 pm ET', 'Boston Celtics', 'Miami Heat', 'Miami,  FL', 'FTX Arena'], ['Friday, October 15', '7:00 pm ET', 'Philadelphia 76ers', 'Detroit Pistons', 'Detroit,  MI', 'Little Caesars Arena'], ['Friday, October 15', '7:00 pm ET', 'Cleveland Cavaliers', 'Indiana Pacers', 'Indianapolis,  IN', 'Bankers Life Fieldhouse'], ['Friday, October 15', '7:30 pm ET', 'Washington Wizards', 'New York Knicks', 'New York,  NY', 'Madison Square Garden'], ['Friday, October 15', '8:00 pm ET', 'Memphis Grizzlies', 'Chicago Bulls', 'Chicago,  IL', 'United Center'], ['Friday, October 15', '8:00 pm ET', 'Dallas Mavericks', 'Milwaukee Bucks', 'Milwaukee,  WI', 'Fiserv Forum'], ['Friday, October 15', '8:30 pm ET', 'Houston Rockets', 'San Antonio Spurs', 'San Antonio,  TX', 'AT&T Center'], ['Friday, October 15', '10:00 pm ET', 'Portland Trail Blazers', 'Golden State Warriors', 'San Francisco,  CA', 'Chase Center'], ['Tuesday, October 19', '7:30 pm ET          ', 'Brooklyn Nets', 'Milwaukee Bucks', 'Milwaukee,  WI', 'Fiserv Forum'], ['Wednesday, October 20', '7:00 pm ET', 'Indiana Pacers', 'Charlotte Hornets', 'Charlotte,  NC', 'Spectrum Center'], ['Thursday, October 21', '7:30 pm ET          ', 'Dallas Mavericks', 'Atlanta Hawks', 'Atlanta,  GA', 'State Farm Arena'], ['Friday, October 22', '7:00 pm ET', 'Charlotte Hornets', 'Cleveland Cavaliers', 'Cleveland,  OH', 'Rocket Mortgage FieldHouse'], ['Saturday, October 23', '6:00 pm ET          ', 'Atlanta Hawks', 'Cleveland Cavaliers', 'Cleveland,  OH', 'Rocket Mortgage FieldHouse'], ['Sunday, October 24', '4:00 pm ET', 'Charlotte Hornets', 'Brooklyn Nets', 'Brooklyn,  NY', 'Barclays Center'], ['Monday, October 25', '7:00 pm ET', 'Boston Celtics', 'Charlotte Hornets', 'Charlotte,  NC', 'Spectrum Center'], ['Monday, October 25', '7:00 pm ET          ', 'Milwaukee Bucks', 'Indiana Pacers', 'Indianapolis,  IN', 'Bankers Life Fieldhouse'], ['Tuesday, October 26', '7:30 pm ET          ', 'Philadelphia 76ers', 'New York Knicks', 'New York,  NY', 'Madison Square Garden'], ['Tuesday, October 26', '8:00 pm ET', 'Golden State Warriors', 'Oklahoma City Thunder', 'Oklahoma City,  OK', 'Paycom Center'], ['Wednesday, October 27', '7:00 pm ET', 'Charlotte Hornets', 'Orlando Magic', 'Orlando,  FL', 'Amway Center'], ['Wednesday, October 27', '7:30 pm ET', 'Washington Wizards', 'Boston Celtics', 'Boston,  MA', 'TD Garden'], ['Thursday, October 28', '7:00 pm ET          ', 'Detroit Pistons', 'Philadelphia 76ers', 'Philadelphia,  PA', 'Wells Fargo Center'], ['Thursday, October 28', '7:00 pm ET          ', 'Atlanta Hawks', 'Washington Wizards', 'Washington,  DC', 'Capital One Arena'], ['Friday, October 29', '7:00 pm ET          ', 'Orlando Magic', 'Toronto Raptors', 'Toronto,  ON', 'Scotiabank Arena'], ['Friday, October 29', '7:30 pm ET', 'Indiana Pacers', 'Brooklyn Nets', 'Brooklyn,  NY', 'Barclays Center'], ['Saturday, October 30', '5:00 pm ET', 'Boston Celtics', 'Washington Wizards', 'Washington,  DC', 'Capital One Arena'], ['Saturday, October 30', '7:00 pm ET          ', 'Orlando Magic', 'Detroit Pistons', 'Detroit,  MI', 'Little Caesars Arena'], ['Sunday, October 31', '3:30 pm ET', 'Sacramento Kings', 'Dallas Mavericks', 'Dallas,  TX', 'American Airlines Center'], ['Sunday, October 31', '7:00 pm ET', 'Portland Trail Blazers', 'Charlotte Hornets', 'Charlotte,  NC', 'Spectrum Center']]\n"
     ]
    }
   ],
   "metadata": {}
  },
  {
   "cell_type": "code",
   "execution_count": 38,
   "source": [
    "columns = ['날짜', '경기시간', '홈팀', '어웨이팀', '지역', '아레나']\n",
    "df = pd.DataFrame(games_list, columns=columns)\n",
    "df"
   ],
   "outputs": [
    {
     "output_type": "execute_result",
     "data": {
      "text/html": [
       "<div>\n",
       "<style scoped>\n",
       "    .dataframe tbody tr th:only-of-type {\n",
       "        vertical-align: middle;\n",
       "    }\n",
       "\n",
       "    .dataframe tbody tr th {\n",
       "        vertical-align: top;\n",
       "    }\n",
       "\n",
       "    .dataframe thead th {\n",
       "        text-align: right;\n",
       "    }\n",
       "</style>\n",
       "<table border=\"1\" class=\"dataframe\">\n",
       "  <thead>\n",
       "    <tr style=\"text-align: right;\">\n",
       "      <th></th>\n",
       "      <th>날짜</th>\n",
       "      <th>경기시간</th>\n",
       "      <th>홈팀</th>\n",
       "      <th>어웨이팀</th>\n",
       "      <th>지역</th>\n",
       "      <th>아레나</th>\n",
       "    </tr>\n",
       "  </thead>\n",
       "  <tbody>\n",
       "    <tr>\n",
       "      <th>0</th>\n",
       "      <td>Sunday, October 3</td>\n",
       "      <td>3:30 pm ET</td>\n",
       "      <td>Brooklyn Nets</td>\n",
       "      <td>Los Angeles Lakers</td>\n",
       "      <td>Los Angeles,  CA</td>\n",
       "      <td>STAPLES Center</td>\n",
       "    </tr>\n",
       "    <tr>\n",
       "      <th>1</th>\n",
       "      <td>Monday, October 4</td>\n",
       "      <td>7:00 pm ET</td>\n",
       "      <td>Philadelphia 76ers</td>\n",
       "      <td>Toronto Raptors</td>\n",
       "      <td>Toronto,  ON</td>\n",
       "      <td>Scotiabank Arena</td>\n",
       "    </tr>\n",
       "    <tr>\n",
       "      <th>2</th>\n",
       "      <td>Monday, October 4</td>\n",
       "      <td>7:30 pm ET</td>\n",
       "      <td>Orlando Magic</td>\n",
       "      <td>Boston Celtics</td>\n",
       "      <td>Boston,  MA</td>\n",
       "      <td>TD Garden</td>\n",
       "    </tr>\n",
       "    <tr>\n",
       "      <th>3</th>\n",
       "      <td>Monday, October 4</td>\n",
       "      <td>7:30 pm ET</td>\n",
       "      <td>Atlanta Hawks</td>\n",
       "      <td>Miami Heat</td>\n",
       "      <td>Miami,  FL</td>\n",
       "      <td>FTX Arena</td>\n",
       "    </tr>\n",
       "    <tr>\n",
       "      <th>4</th>\n",
       "      <td>Monday, October 4</td>\n",
       "      <td>8:00 pm ET</td>\n",
       "      <td>New Orleans Pelicans</td>\n",
       "      <td>Minnesota Timberwolves</td>\n",
       "      <td>Minneapolis,  MN</td>\n",
       "      <td>Target Center</td>\n",
       "    </tr>\n",
       "    <tr>\n",
       "      <th>...</th>\n",
       "      <td>...</td>\n",
       "      <td>...</td>\n",
       "      <td>...</td>\n",
       "      <td>...</td>\n",
       "      <td>...</td>\n",
       "      <td>...</td>\n",
       "    </tr>\n",
       "    <tr>\n",
       "      <th>81</th>\n",
       "      <td>Friday, October 29</td>\n",
       "      <td>7:30 pm ET</td>\n",
       "      <td>Indiana Pacers</td>\n",
       "      <td>Brooklyn Nets</td>\n",
       "      <td>Brooklyn,  NY</td>\n",
       "      <td>Barclays Center</td>\n",
       "    </tr>\n",
       "    <tr>\n",
       "      <th>82</th>\n",
       "      <td>Saturday, October 30</td>\n",
       "      <td>5:00 pm ET</td>\n",
       "      <td>Boston Celtics</td>\n",
       "      <td>Washington Wizards</td>\n",
       "      <td>Washington,  DC</td>\n",
       "      <td>Capital One Arena</td>\n",
       "    </tr>\n",
       "    <tr>\n",
       "      <th>83</th>\n",
       "      <td>Saturday, October 30</td>\n",
       "      <td>7:00 pm ET</td>\n",
       "      <td>Orlando Magic</td>\n",
       "      <td>Detroit Pistons</td>\n",
       "      <td>Detroit,  MI</td>\n",
       "      <td>Little Caesars Arena</td>\n",
       "    </tr>\n",
       "    <tr>\n",
       "      <th>84</th>\n",
       "      <td>Sunday, October 31</td>\n",
       "      <td>3:30 pm ET</td>\n",
       "      <td>Sacramento Kings</td>\n",
       "      <td>Dallas Mavericks</td>\n",
       "      <td>Dallas,  TX</td>\n",
       "      <td>American Airlines Center</td>\n",
       "    </tr>\n",
       "    <tr>\n",
       "      <th>85</th>\n",
       "      <td>Sunday, October 31</td>\n",
       "      <td>7:00 pm ET</td>\n",
       "      <td>Portland Trail Blazers</td>\n",
       "      <td>Charlotte Hornets</td>\n",
       "      <td>Charlotte,  NC</td>\n",
       "      <td>Spectrum Center</td>\n",
       "    </tr>\n",
       "  </tbody>\n",
       "</table>\n",
       "<p>86 rows × 6 columns</p>\n",
       "</div>"
      ],
      "text/plain": [
       "                      날짜                  경기시간                      홈팀  \\\n",
       "0      Sunday, October 3            3:30 pm ET           Brooklyn Nets   \n",
       "1      Monday, October 4            7:00 pm ET      Philadelphia 76ers   \n",
       "2      Monday, October 4            7:30 pm ET           Orlando Magic   \n",
       "3      Monday, October 4            7:30 pm ET           Atlanta Hawks   \n",
       "4      Monday, October 4            8:00 pm ET    New Orleans Pelicans   \n",
       "..                   ...                   ...                     ...   \n",
       "81    Friday, October 29            7:30 pm ET          Indiana Pacers   \n",
       "82  Saturday, October 30            5:00 pm ET          Boston Celtics   \n",
       "83  Saturday, October 30  7:00 pm ET                     Orlando Magic   \n",
       "84    Sunday, October 31            3:30 pm ET        Sacramento Kings   \n",
       "85    Sunday, October 31            7:00 pm ET  Portland Trail Blazers   \n",
       "\n",
       "                      어웨이팀                지역                       아레나  \n",
       "0       Los Angeles Lakers  Los Angeles,  CA            STAPLES Center  \n",
       "1          Toronto Raptors      Toronto,  ON          Scotiabank Arena  \n",
       "2           Boston Celtics       Boston,  MA                 TD Garden  \n",
       "3               Miami Heat        Miami,  FL                 FTX Arena  \n",
       "4   Minnesota Timberwolves  Minneapolis,  MN             Target Center  \n",
       "..                     ...               ...                       ...  \n",
       "81           Brooklyn Nets     Brooklyn,  NY           Barclays Center  \n",
       "82      Washington Wizards   Washington,  DC         Capital One Arena  \n",
       "83         Detroit Pistons      Detroit,  MI      Little Caesars Arena  \n",
       "84        Dallas Mavericks       Dallas,  TX  American Airlines Center  \n",
       "85       Charlotte Hornets    Charlotte,  NC           Spectrum Center  \n",
       "\n",
       "[86 rows x 6 columns]"
      ]
     },
     "metadata": {},
     "execution_count": 38
    }
   ],
   "metadata": {}
  },
  {
   "cell_type": "code",
   "execution_count": 39,
   "source": [
    "print(f\"현지시간 기준 {df['날짜'][0]}일 {df['지역'][0]}의 {df['아레나'][0]}에서 {df['어웨이팀'][0]}, {df['홈팀'][0]}의 경기가 {df['경기시간'][0]}에 예정되어 있습니다.\")"
   ],
   "outputs": [
    {
     "output_type": "stream",
     "name": "stdout",
     "text": [
      "현지시간 기준 Sunday, October 3일 Los Angeles,  CA의 STAPLES Center에서 Los Angeles Lakers, Brooklyn Nets의 경기가 3:30 pm ET에 예정되어 있습니다.\n"
     ]
    }
   ],
   "metadata": {}
  },
  {
   "cell_type": "code",
   "execution_count": null,
   "source": [],
   "outputs": [],
   "metadata": {}
  }
 ],
 "metadata": {
  "orig_nbformat": 4,
  "language_info": {
   "name": "python",
   "version": "3.9.7",
   "mimetype": "text/x-python",
   "codemirror_mode": {
    "name": "ipython",
    "version": 3
   },
   "pygments_lexer": "ipython3",
   "nbconvert_exporter": "python",
   "file_extension": ".py"
  },
  "kernelspec": {
   "name": "python3",
   "display_name": "Python 3.9.7 64-bit"
  },
  "interpreter": {
   "hash": "767d51c1340bd893661ea55ea3124f6de3c7a262a8b4abca0554b478b1e2ff90"
  }
 },
 "nbformat": 4,
 "nbformat_minor": 2
}