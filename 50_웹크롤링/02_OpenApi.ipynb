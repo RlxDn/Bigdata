{
 "cells": [
  {
   "cell_type": "markdown",
   "source": [
    "  # 2. Open API 활용"
   ],
   "metadata": {}
  },
  {
   "cell_type": "markdown",
   "source": [
    "### 공공 데이터 포털사이트 사용하기\r\n",
    "1. 공공데이터 포털사이트 회원가입/로그인\r\n",
    "2. 데이터 검색\r\n",
    "3. API 사용 요청, 키 발금\r\n",
    "4. API 매뉴얼 확인\r\n",
    "5. API 연동 개발 및 테스트"
   ],
   "metadata": {}
  },
  {
   "cell_type": "code",
   "execution_count": null,
   "source": [],
   "outputs": [],
   "metadata": {}
  }
 ],
 "metadata": {
  "orig_nbformat": 4,
  "language_info": {
   "name": "python",
   "version": "3.9.6"
  },
  "kernelspec": {
   "name": "python3",
   "display_name": "Python 3.9.6 64-bit (windows store)"
  },
  "interpreter": {
   "hash": "c8535e51a4811ab5d86241609254bb4def40aac4ed427dd40178feef6028dff3"
  }
 },
 "nbformat": 4,
 "nbformat_minor": 2
}