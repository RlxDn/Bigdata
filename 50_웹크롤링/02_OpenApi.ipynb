{
 "cells": [
  {
   "cell_type": "markdown",
   "source": [
    "  # 2. Open API 활용"
   ],
   "metadata": {}
  },
  {
   "cell_type": "markdown",
   "source": [
    "### 공공 데이터 포털사이트 사용하기\r\n",
    "1. 공공데이터 포털사이트 회원가입/로그인\r\n",
    "2. 데이터 검색\r\n",
    "3. API 사용 요청, 키 발금\r\n",
    "4. API 매뉴얼 확인\r\n",
    "5. API 연동 개발 및 테스트"
   ],
   "metadata": {}
  },
  {
   "cell_type": "code",
   "execution_count": 4,
   "source": [
    "import requests\n",
    "import xmltodict"
   ],
   "outputs": [],
   "metadata": {}
  },
  {
   "cell_type": "markdown",
   "source": [
    "### 보건복지부 - 코로나19감염현황조회서비스(XML)"
   ],
   "metadata": {}
  },
  {
   "cell_type": "code",
   "execution_count": 5,
   "source": [
    "servicekey = 'XQ2h1UetXQVDnVm1nKLrcbx4xH1QuiQqgXhihLADBiursTA%2F9FT0tbryifthJZWFCAFKwh9xTPZQq5M5c17pSQ%3D%3D'\n",
    "url = 'http://openapi.data.go.kr/openapi/service/rest/Covid19/getCovid19InfStateJson?serviceKey={}&pageNo=1&numOfRows=10&startCreateDt=20210801&endCreateDt=20210816'.format(servicekey)\n",
    "url"
   ],
   "outputs": [
    {
     "output_type": "execute_result",
     "data": {
      "text/plain": [
       "'http://openapi.data.go.kr/openapi/service/rest/Covid19/getCovid19InfStateJson?serviceKey=XQ2h1UetXQVDnVm1nKLrcbx4xH1QuiQqgXhihLADBiursTA%2F9FT0tbryifthJZWFCAFKwh9xTPZQq5M5c17pSQ%3D%3D&pageNo=1&numOfRows=10&startCreateDt=20210801&endCreateDt=20210816'"
      ]
     },
     "metadata": {},
     "execution_count": 5
    }
   ],
   "metadata": {}
  },
  {
   "cell_type": "code",
   "execution_count": 6,
   "source": [
    "res = requests.get(url)\n",
    "res"
   ],
   "outputs": [
    {
     "output_type": "execute_result",
     "data": {
      "text/plain": [
       "<Response [200]>"
      ]
     },
     "metadata": {},
     "execution_count": 6
    }
   ],
   "metadata": {}
  },
  {
   "cell_type": "code",
   "execution_count": 7,
   "source": [
    "res.text"
   ],
   "outputs": [
    {
     "output_type": "execute_result",
     "data": {
      "text/plain": [
       "'<?xml version=\"1.0\" encoding=\"UTF-8\" standalone=\"yes\"?><response><header><resultCode>99</resultCode><resultMsg>SERVICE KEY IS NOT REGISTERED ERROR.</resultMsg></header></response>'"
      ]
     },
     "metadata": {},
     "execution_count": 7
    }
   ],
   "metadata": {}
  },
  {
   "cell_type": "code",
   "execution_count": 8,
   "source": [
    "temp = xmltodict.parse(res.text)\n",
    "temp"
   ],
   "outputs": [
    {
     "output_type": "execute_result",
     "data": {
      "text/plain": [
       "OrderedDict([('response',\n",
       "              OrderedDict([('header',\n",
       "                            OrderedDict([('resultCode', '99'),\n",
       "                                         ('resultMsg',\n",
       "                                          'SERVICE KEY IS NOT REGISTERED ERROR.')]))]))])"
      ]
     },
     "metadata": {},
     "execution_count": 8
    }
   ],
   "metadata": {}
  },
  {
   "cell_type": "code",
   "execution_count": 10,
   "source": [
    "import json\n",
    "result = json.loads(json.dumps(temp)) # string -> dict\n",
    "result"
   ],
   "outputs": [
    {
     "output_type": "execute_result",
     "data": {
      "text/plain": [
       "{'response': {'header': {'resultCode': '99',\n",
       "   'resultMsg': 'SERVICE KEY IS NOT REGISTERED ERROR.'}}}"
      ]
     },
     "metadata": {},
     "execution_count": 10
    }
   ],
   "metadata": {}
  },
  {
   "cell_type": "code",
   "execution_count": null,
   "source": [
    "result['response']['body']['items']['item']"
   ],
   "outputs": [],
   "metadata": {}
  }
 ],
 "metadata": {
  "orig_nbformat": 4,
  "language_info": {
   "name": "python",
   "version": "3.9.6",
   "mimetype": "text/x-python",
   "codemirror_mode": {
    "name": "ipython",
    "version": 3
   },
   "pygments_lexer": "ipython3",
   "nbconvert_exporter": "python",
   "file_extension": ".py"
  },
  "kernelspec": {
   "name": "python3",
   "display_name": "Python 3.9.6 64-bit"
  },
  "interpreter": {
   "hash": "767d51c1340bd893661ea55ea3124f6de3c7a262a8b4abca0554b478b1e2ff90"
  }
 },
 "nbformat": 4,
 "nbformat_minor": 2
}