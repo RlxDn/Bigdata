{
 "cells": [
  {
   "cell_type": "markdown",
   "source": [
    "# 3. BeautifulSoup 기초\n",
    "* HTML과 XML문서를 파싱하기 위한 파이썬 패키지\n",
    "* 대표페이지 소개"
   ],
   "metadata": {}
  },
  {
   "cell_type": "code",
   "execution_count": 1,
   "source": [
    "import requests\n",
    "from bs4 import BeautifulSoup"
   ],
   "outputs": [],
   "metadata": {}
  },
  {
   "cell_type": "code",
   "execution_count": 2,
   "source": [
    "html_doc = \"\"\"\n",
    "<html>\n",
    "<head>\n",
    "<title>My story</title>\n",
    "</head>\n",
    "<body>\n",
    "<p class=\"title\">My Story</p>\n",
    "<p class=\"story\">내가 좋아하는 음식\n",
    "<a href=\"http://www.pizzahut.co.kr\" class=\"food\" id=\"link1\">피자</a>\n",
    "<a href=\"http://www.kyochon.com\" class=\"food\" id=\"link2\">치킨</a>\n",
    "<a href=\"http://www.momstouch.co.kr\" class=\"food\" id=\"link3\">버거</a>\n",
    "</p>\n",
    "</body>\n",
    "</html>\n",
    "\"\"\""
   ],
   "outputs": [],
   "metadata": {}
  },
  {
   "cell_type": "code",
   "execution_count": 3,
   "source": [
    "soup = BeautifulSoup(html_doc, 'html.parser') # lxml, html5lib\n",
    "soup"
   ],
   "outputs": [
    {
     "output_type": "execute_result",
     "data": {
      "text/plain": [
       "\n",
       "<html>\n",
       "<head>\n",
       "<title>My story</title>\n",
       "</head>\n",
       "<body>\n",
       "<p class=\"title\">My Story</p>\n",
       "<p class=\"story\">내가 좋아하는 음식\n",
       "<a class=\"food\" href=\"http://www.pizzahut.co.kr\" id=\"link1\">피자</a>\n",
       "<a class=\"food\" href=\"http://www.kyochon.com\" id=\"link2\">치킨</a>\n",
       "<a class=\"food\" href=\"http://www.momstouch.co.kr\" id=\"link3\">버거</a>\n",
       "</p>\n",
       "</body>\n",
       "</html>"
      ]
     },
     "metadata": {},
     "execution_count": 3
    }
   ],
   "metadata": {}
  },
  {
   "cell_type": "code",
   "execution_count": 4,
   "source": [
    "type(soup)"
   ],
   "outputs": [
    {
     "output_type": "execute_result",
     "data": {
      "text/plain": [
       "bs4.BeautifulSoup"
      ]
     },
     "metadata": {},
     "execution_count": 4
    }
   ],
   "metadata": {}
  },
  {
   "cell_type": "code",
   "execution_count": 5,
   "source": [
    "print(soup.prettify())"
   ],
   "outputs": [
    {
     "output_type": "stream",
     "name": "stdout",
     "text": [
      "<html>\n",
      " <head>\n",
      "  <title>\n",
      "   My story\n",
      "  </title>\n",
      " </head>\n",
      " <body>\n",
      "  <p class=\"title\">\n",
      "   My Story\n",
      "  </p>\n",
      "  <p class=\"story\">\n",
      "   내가 좋아하는 음식\n",
      "   <a class=\"food\" href=\"http://www.pizzahut.co.kr\" id=\"link1\">\n",
      "    피자\n",
      "   </a>\n",
      "   <a class=\"food\" href=\"http://www.kyochon.com\" id=\"link2\">\n",
      "    치킨\n",
      "   </a>\n",
      "   <a class=\"food\" href=\"http://www.momstouch.co.kr\" id=\"link3\">\n",
      "    버거\n",
      "   </a>\n",
      "  </p>\n",
      " </body>\n",
      "</html>\n",
      "\n"
     ]
    }
   ],
   "metadata": {}
  },
  {
   "cell_type": "markdown",
   "source": [
    "### find 함수\n",
    "* 조건에 만족하는 첫번째 tag만 검색"
   ],
   "metadata": {}
  },
  {
   "cell_type": "code",
   "execution_count": 6,
   "source": [
    "soup.find('a', id=\"link2\")"
   ],
   "outputs": [
    {
     "output_type": "execute_result",
     "data": {
      "text/plain": [
       "<a class=\"food\" href=\"http://www.kyochon.com\" id=\"link2\">치킨</a>"
      ]
     },
     "metadata": {},
     "execution_count": 6
    }
   ],
   "metadata": {}
  },
  {
   "cell_type": "code",
   "execution_count": 7,
   "source": [
    "soup.find('a', class_='food', id='link3')"
   ],
   "outputs": [
    {
     "output_type": "execute_result",
     "data": {
      "text/plain": [
       "<a class=\"food\" href=\"http://www.momstouch.co.kr\" id=\"link3\">버거</a>"
      ]
     },
     "metadata": {},
     "execution_count": 7
    }
   ],
   "metadata": {}
  },
  {
   "cell_type": "code",
   "execution_count": 8,
   "source": [
    "soup.find_all('a')"
   ],
   "outputs": [
    {
     "output_type": "execute_result",
     "data": {
      "text/plain": [
       "[<a class=\"food\" href=\"http://www.pizzahut.co.kr\" id=\"link1\">피자</a>,\n",
       " <a class=\"food\" href=\"http://www.kyochon.com\" id=\"link2\">치킨</a>,\n",
       " <a class=\"food\" href=\"http://www.momstouch.co.kr\" id=\"link3\">버거</a>]"
      ]
     },
     "metadata": {},
     "execution_count": 8
    }
   ],
   "metadata": {}
  },
  {
   "cell_type": "code",
   "execution_count": 9,
   "source": [
    "for tag in soup.find_all('a'):\n",
    "  print(tag)"
   ],
   "outputs": [
    {
     "output_type": "stream",
     "name": "stdout",
     "text": [
      "<a class=\"food\" href=\"http://www.pizzahut.co.kr\" id=\"link1\">피자</a>\n",
      "<a class=\"food\" href=\"http://www.kyochon.com\" id=\"link2\">치킨</a>\n",
      "<a class=\"food\" href=\"http://www.momstouch.co.kr\" id=\"link3\">버거</a>\n"
     ]
    }
   ],
   "metadata": {}
  },
  {
   "cell_type": "markdown",
   "source": [
    "### get_text 함수\n",
    "* tag안의 value를 추출\n",
    "* 부모 tag의 경우 모든 자식 tag의 value 호출"
   ],
   "metadata": {}
  },
  {
   "cell_type": "code",
   "execution_count": 10,
   "source": [
    "soup.get_text()"
   ],
   "outputs": [
    {
     "output_type": "execute_result",
     "data": {
      "text/plain": [
       "'\\n\\n\\nMy story\\n\\n\\nMy Story\\n내가 좋아하는 음식\\n피자\\n치킨\\n버거\\n\\n\\n\\n'"
      ]
     },
     "metadata": {},
     "execution_count": 10
    }
   ],
   "metadata": {}
  },
  {
   "cell_type": "code",
   "execution_count": 11,
   "source": [
    "print(soup.find('p').text)"
   ],
   "outputs": [
    {
     "output_type": "stream",
     "name": "stdout",
     "text": [
      "My Story\n"
     ]
    }
   ],
   "metadata": {}
  },
  {
   "cell_type": "code",
   "execution_count": 12,
   "source": [
    "for tag in soup.find_all('a'):\n",
    "  print(tag.get_text())"
   ],
   "outputs": [
    {
     "output_type": "stream",
     "name": "stdout",
     "text": [
      "피자\n",
      "치킨\n",
      "버거\n"
     ]
    }
   ],
   "metadata": {}
  },
  {
   "cell_type": "markdown",
   "source": [
    "### attribute값 추출하기\n",
    "* 검색한 tag에서 attribute값을 추출\n",
    "* tag ['attr명']"
   ],
   "metadata": {}
  },
  {
   "cell_type": "code",
   "execution_count": 15,
   "source": [
    "soup.find('a').attrs"
   ],
   "outputs": [
    {
     "output_type": "execute_result",
     "data": {
      "text/plain": [
       "{'href': 'http://www.pizzahut.co.kr', 'class': ['food'], 'id': 'link1'}"
      ]
     },
     "metadata": {},
     "execution_count": 15
    }
   ],
   "metadata": {}
  },
  {
   "cell_type": "code",
   "execution_count": 16,
   "source": [
    "soup.find('p')['class']"
   ],
   "outputs": [
    {
     "output_type": "execute_result",
     "data": {
      "text/plain": [
       "['title']"
      ]
     },
     "metadata": {},
     "execution_count": 16
    }
   ],
   "metadata": {}
  },
  {
   "cell_type": "code",
   "execution_count": 21,
   "source": [
    "for tag in soup.find_all('a'):\n",
    "  print(tag['href'], tag['id'])"
   ],
   "outputs": [
    {
     "output_type": "stream",
     "name": "stdout",
     "text": [
      "http://www.pizzahut.co.kr link1\n",
      "http://www.kyochon.com link2\n",
      "http://www.momstouch.co.kr link3\n"
     ]
    }
   ],
   "metadata": {}
  },
  {
   "cell_type": "markdown",
   "source": [
    "### select 함수 \n",
    "* select는 CSS Selector로 tag 찾기\n",
    "* 자손 태그 찾기 - tag1 tag2\n",
    "* 직계 자식 태그 찾기 - tag1 > tag2\n",
    "* id 선택자 - #id\n",
    "* class tjsxorwk - .class\n",
    "* 속성값 찾기 - [name='value']\n",
    "  * 속성값 시작문자열 찾기 [name ^= 'value']\n",
    "  * 속성값 종료문자열 찾기 [name $= 'value']\n",
    "  * 속성값 포함문자열 찾기 [name *= 'value']"
   ],
   "metadata": {}
  },
  {
   "cell_type": "code",
   "execution_count": 24,
   "source": [
    "print(soup.prettify())"
   ],
   "outputs": [
    {
     "output_type": "stream",
     "name": "stdout",
     "text": [
      "<html>\n",
      " <head>\n",
      "  <title>\n",
      "   My story\n",
      "  </title>\n",
      " </head>\n",
      " <body>\n",
      "  <p class=\"title\">\n",
      "   My Story\n",
      "  </p>\n",
      "  <p class=\"story\">\n",
      "   내가 좋아하는 음식\n",
      "   <a class=\"food\" href=\"http://www.pizzahut.co.kr\" id=\"link1\">\n",
      "    피자\n",
      "   </a>\n",
      "   <a class=\"food\" href=\"http://www.kyochon.com\" id=\"link2\">\n",
      "    치킨\n",
      "   </a>\n",
      "   <a class=\"food\" href=\"http://www.momstouch.co.kr\" id=\"link3\">\n",
      "    버거\n",
      "   </a>\n",
      "  </p>\n",
      " </body>\n",
      "</html>\n",
      "\n"
     ]
    }
   ],
   "metadata": {}
  },
  {
   "cell_type": "code",
   "execution_count": 22,
   "source": [
    "soup.select('p')"
   ],
   "outputs": [
    {
     "output_type": "execute_result",
     "data": {
      "text/plain": [
       "[<p class=\"title\">My Story</p>,\n",
       " <p class=\"story\">내가 좋아하는 음식\n",
       " <a class=\"food\" href=\"http://www.pizzahut.co.kr\" id=\"link1\">피자</a>\n",
       " <a class=\"food\" href=\"http://www.kyochon.com\" id=\"link2\">치킨</a>\n",
       " <a class=\"food\" href=\"http://www.momstouch.co.kr\" id=\"link3\">버거</a>\n",
       " </p>]"
      ]
     },
     "metadata": {},
     "execution_count": 22
    }
   ],
   "metadata": {}
  },
  {
   "cell_type": "code",
   "execution_count": 23,
   "source": [
    "soup.select_one('p')"
   ],
   "outputs": [
    {
     "output_type": "execute_result",
     "data": {
      "text/plain": [
       "<p class=\"title\">My Story</p>"
      ]
     },
     "metadata": {},
     "execution_count": 23
    }
   ],
   "metadata": {}
  },
  {
   "cell_type": "code",
   "execution_count": 25,
   "source": [
    "# 자손 태그\n",
    "soup.select('html title')"
   ],
   "outputs": [
    {
     "output_type": "execute_result",
     "data": {
      "text/plain": [
       "[<title>My story</title>]"
      ]
     },
     "metadata": {},
     "execution_count": 25
    }
   ],
   "metadata": {}
  },
  {
   "cell_type": "code",
   "execution_count": 26,
   "source": [
    "# 직계 자식 태그\n",
    "soup.select('html > title')"
   ],
   "outputs": [
    {
     "output_type": "execute_result",
     "data": {
      "text/plain": [
       "[]"
      ]
     },
     "metadata": {},
     "execution_count": 26
    }
   ],
   "metadata": {}
  },
  {
   "cell_type": "code",
   "execution_count": 32,
   "source": [
    "# id 선택자\n",
    "soup.select('#link1')"
   ],
   "outputs": [
    {
     "output_type": "execute_result",
     "data": {
      "text/plain": [
       "[<a class=\"food\" href=\"http://www.pizzahut.co.kr\" id=\"link1\">피자</a>]"
      ]
     },
     "metadata": {},
     "execution_count": 32
    }
   ],
   "metadata": {}
  },
  {
   "cell_type": "code",
   "execution_count": 36,
   "source": [
    "# class 선택자\n",
    "soup.select('.food')"
   ],
   "outputs": [
    {
     "output_type": "execute_result",
     "data": {
      "text/plain": [
       "[<a class=\"food\" href=\"http://www.pizzahut.co.kr\" id=\"link1\">피자</a>,\n",
       " <a class=\"food\" href=\"http://www.kyochon.com\" id=\"link2\">치킨</a>,\n",
       " <a class=\"food\" href=\"http://www.momstouch.co.kr\" id=\"link3\">버거</a>]"
      ]
     },
     "metadata": {},
     "execution_count": 36
    }
   ],
   "metadata": {}
  },
  {
   "cell_type": "code",
   "execution_count": 38,
   "source": [
    "# 속성값 찾기\n",
    "soup.select('[href=\"http://www.pizzahut.co.kr\"]')"
   ],
   "outputs": [
    {
     "output_type": "execute_result",
     "data": {
      "text/plain": [
       "[<a class=\"food\" href=\"http://www.pizzahut.co.kr\" id=\"link1\">피자</a>]"
      ]
     },
     "metadata": {},
     "execution_count": 38
    }
   ],
   "metadata": {}
  },
  {
   "cell_type": "code",
   "execution_count": 41,
   "source": [
    "# 시작문자열\n",
    "soup.select('[href^=\"http\"]')"
   ],
   "outputs": [
    {
     "output_type": "execute_result",
     "data": {
      "text/plain": [
       "[<a class=\"food\" href=\"http://www.pizzahut.co.kr\" id=\"link1\">피자</a>,\n",
       " <a class=\"food\" href=\"http://www.kyochon.com\" id=\"link2\">치킨</a>,\n",
       " <a class=\"food\" href=\"http://www.momstouch.co.kr\" id=\"link3\">버거</a>]"
      ]
     },
     "metadata": {},
     "execution_count": 41
    }
   ],
   "metadata": {}
  },
  {
   "cell_type": "code",
   "execution_count": 43,
   "source": [
    "# 종료문자열\n",
    "soup.select('[href$=\"kr\"]')"
   ],
   "outputs": [
    {
     "output_type": "execute_result",
     "data": {
      "text/plain": [
       "[<a class=\"food\" href=\"http://www.pizzahut.co.kr\" id=\"link1\">피자</a>,\n",
       " <a class=\"food\" href=\"http://www.momstouch.co.kr\" id=\"link3\">버거</a>]"
      ]
     },
     "metadata": {},
     "execution_count": 43
    }
   ],
   "metadata": {}
  },
  {
   "cell_type": "code",
   "execution_count": 44,
   "source": [
    "# 포함문자열\n",
    "soup.select('[href*=\"ch\"]')"
   ],
   "outputs": [
    {
     "output_type": "execute_result",
     "data": {
      "text/plain": [
       "[<a class=\"food\" href=\"http://www.kyochon.com\" id=\"link2\">치킨</a>,\n",
       " <a class=\"food\" href=\"http://www.momstouch.co.kr\" id=\"link3\">버거</a>]"
      ]
     },
     "metadata": {},
     "execution_count": 44
    }
   ],
   "metadata": {}
  }
 ],
 "metadata": {
  "orig_nbformat": 4,
  "language_info": {
   "name": "python",
   "version": "3.9.6",
   "mimetype": "text/x-python",
   "codemirror_mode": {
    "name": "ipython",
    "version": 3
   },
   "pygments_lexer": "ipython3",
   "nbconvert_exporter": "python",
   "file_extension": ".py"
  },
  "kernelspec": {
   "name": "python3",
   "display_name": "Python 3.9.6 64-bit"
  },
  "interpreter": {
   "hash": "767d51c1340bd893661ea55ea3124f6de3c7a262a8b4abca0554b478b1e2ff90"
  }
 },
 "nbformat": 4,
 "nbformat_minor": 2
}