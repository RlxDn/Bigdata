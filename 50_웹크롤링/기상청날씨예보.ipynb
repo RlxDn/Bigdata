{
 "cells": [
  {
   "cell_type": "markdown",
   "source": [
    "# 기상청 중기예보 조회 서비스를 활용한 날씨예보 정보 수집"
   ],
   "metadata": {}
  },
  {
   "cell_type": "code",
   "execution_count": 111,
   "source": [
    "import requests\n",
    "import xmltodict\n",
    "import pandas as pd"
   ],
   "outputs": [],
   "metadata": {}
  },
  {
   "cell_type": "markdown",
   "source": [
    "## 기상청_중기예보 조회서비스(XML)\n",
    "## 데이터를 받아서 xml 데이터를 딕셔너리로 변환"
   ],
   "metadata": {}
  },
  {
   "cell_type": "code",
   "execution_count": 112,
   "source": [
    "servicekey = 'XQ2h1UetXQVDnVm1nKLrcbx4xH1QuiQqgXhihLADBiursTA%2F9FT0tbryifthJZWFCAFKwh9xTPZQq5M5c17pSQ%3D%3D'\n",
    "url = 'http://apis.data.go.kr/1360000/MidFcstInfoService/getMidLandFcst?serviceKey={}&numOfRows=10&pageNo=1&regId=11B00000&tmFc=202109151800'.format(servicekey)\n",
    "url"
   ],
   "outputs": [
    {
     "output_type": "execute_result",
     "data": {
      "text/plain": [
       "'http://apis.data.go.kr/1360000/MidFcstInfoService/getMidLandFcst?serviceKey=XQ2h1UetXQVDnVm1nKLrcbx4xH1QuiQqgXhihLADBiursTA%2F9FT0tbryifthJZWFCAFKwh9xTPZQq5M5c17pSQ%3D%3D&numOfRows=10&pageNo=1&regId=11B00000&tmFc=202109151800'"
      ]
     },
     "metadata": {},
     "execution_count": 112
    }
   ],
   "metadata": {}
  },
  {
   "cell_type": "code",
   "execution_count": 113,
   "source": [
    "res = requests.get(url)\n",
    "res"
   ],
   "outputs": [
    {
     "output_type": "execute_result",
     "data": {
      "text/plain": [
       "<Response [200]>"
      ]
     },
     "metadata": {},
     "execution_count": 113
    }
   ],
   "metadata": {}
  },
  {
   "cell_type": "code",
   "execution_count": 114,
   "source": [
    "res.text"
   ],
   "outputs": [
    {
     "output_type": "execute_result",
     "data": {
      "text/plain": [
       "'<?xml version=\"1.0\" encoding=\"UTF-8\"?>\\r\\n<response><header><resultCode>00</resultCode><resultMsg>NORMAL_SERVICE</resultMsg></header><body><dataType>XML</dataType><items><item><regId>11B00000</regId><rnSt3Am>0</rnSt3Am><rnSt3Pm>0</rnSt3Pm><rnSt4Am>20</rnSt4Am><rnSt4Pm>0</rnSt4Pm><rnSt5Am>20</rnSt5Am><rnSt5Pm>40</rnSt5Pm><rnSt6Am>90</rnSt6Am><rnSt6Pm>40</rnSt6Pm><rnSt7Am>70</rnSt7Am><rnSt7Pm>20</rnSt7Pm><rnSt8>30</rnSt8><rnSt9>30</rnSt9><rnSt10>30</rnSt10><wf3Am>맑음</wf3Am><wf3Pm>맑음</wf3Pm><wf4Am>구름많음</wf4Am><wf4Pm>맑음</wf4Pm><wf5Am>구름많음</wf5Am><wf5Pm>구름많음</wf5Pm><wf6Am>흐리고 비</wf6Am><wf6Pm>구름많음</wf6Pm><wf7Am>구름많고 비</wf7Am><wf7Pm>맑음</wf7Pm><wf8>구름많음</wf8><wf9>구름많음</wf9><wf10>구름많음</wf10></item></items><numOfRows>10</numOfRows><pageNo>1</pageNo><totalCount>1</totalCount></body></response>\\r\\n'"
      ]
     },
     "metadata": {},
     "execution_count": 114
    }
   ],
   "metadata": {}
  },
  {
   "cell_type": "code",
   "execution_count": 115,
   "source": [
    "temp = xmltodict.parse(res.text)\n",
    "temp"
   ],
   "outputs": [
    {
     "output_type": "execute_result",
     "data": {
      "text/plain": [
       "OrderedDict([('response',\n",
       "              OrderedDict([('header',\n",
       "                            OrderedDict([('resultCode', '00'),\n",
       "                                         ('resultMsg', 'NORMAL_SERVICE')])),\n",
       "                           ('body',\n",
       "                            OrderedDict([('dataType', 'XML'),\n",
       "                                         ('items',\n",
       "                                          OrderedDict([('item',\n",
       "                                                        OrderedDict([('regId',\n",
       "                                                                      '11B00000'),\n",
       "                                                                     ('rnSt3Am',\n",
       "                                                                      '0'),\n",
       "                                                                     ('rnSt3Pm',\n",
       "                                                                      '0'),\n",
       "                                                                     ('rnSt4Am',\n",
       "                                                                      '20'),\n",
       "                                                                     ('rnSt4Pm',\n",
       "                                                                      '0'),\n",
       "                                                                     ('rnSt5Am',\n",
       "                                                                      '20'),\n",
       "                                                                     ('rnSt5Pm',\n",
       "                                                                      '40'),\n",
       "                                                                     ('rnSt6Am',\n",
       "                                                                      '90'),\n",
       "                                                                     ('rnSt6Pm',\n",
       "                                                                      '40'),\n",
       "                                                                     ('rnSt7Am',\n",
       "                                                                      '70'),\n",
       "                                                                     ('rnSt7Pm',\n",
       "                                                                      '20'),\n",
       "                                                                     ('rnSt8',\n",
       "                                                                      '30'),\n",
       "                                                                     ('rnSt9',\n",
       "                                                                      '30'),\n",
       "                                                                     ('rnSt10',\n",
       "                                                                      '30'),\n",
       "                                                                     ('wf3Am',\n",
       "                                                                      '맑음'),\n",
       "                                                                     ('wf3Pm',\n",
       "                                                                      '맑음'),\n",
       "                                                                     ('wf4Am',\n",
       "                                                                      '구름많음'),\n",
       "                                                                     ('wf4Pm',\n",
       "                                                                      '맑음'),\n",
       "                                                                     ('wf5Am',\n",
       "                                                                      '구름많음'),\n",
       "                                                                     ('wf5Pm',\n",
       "                                                                      '구름많음'),\n",
       "                                                                     ('wf6Am',\n",
       "                                                                      '흐리고 비'),\n",
       "                                                                     ('wf6Pm',\n",
       "                                                                      '구름많음'),\n",
       "                                                                     ('wf7Am',\n",
       "                                                                      '구름많고 비'),\n",
       "                                                                     ('wf7Pm',\n",
       "                                                                      '맑음'),\n",
       "                                                                     ('wf8',\n",
       "                                                                      '구름많음'),\n",
       "                                                                     ('wf9',\n",
       "                                                                      '구름많음'),\n",
       "                                                                     ('wf10',\n",
       "                                                                      '구름많음')]))])),\n",
       "                                         ('numOfRows', '10'),\n",
       "                                         ('pageNo', '1'),\n",
       "                                         ('totalCount', '1')]))]))])"
      ]
     },
     "metadata": {},
     "execution_count": 115
    }
   ],
   "metadata": {}
  },
  {
   "cell_type": "code",
   "execution_count": 116,
   "source": [
    "import json\n",
    "result = json.loads(json.dumps(temp))\n",
    "result"
   ],
   "outputs": [
    {
     "output_type": "execute_result",
     "data": {
      "text/plain": [
       "{'response': {'header': {'resultCode': '00', 'resultMsg': 'NORMAL_SERVICE'},\n",
       "  'body': {'dataType': 'XML',\n",
       "   'items': {'item': {'regId': '11B00000',\n",
       "     'rnSt3Am': '0',\n",
       "     'rnSt3Pm': '0',\n",
       "     'rnSt4Am': '20',\n",
       "     'rnSt4Pm': '0',\n",
       "     'rnSt5Am': '20',\n",
       "     'rnSt5Pm': '40',\n",
       "     'rnSt6Am': '90',\n",
       "     'rnSt6Pm': '40',\n",
       "     'rnSt7Am': '70',\n",
       "     'rnSt7Pm': '20',\n",
       "     'rnSt8': '30',\n",
       "     'rnSt9': '30',\n",
       "     'rnSt10': '30',\n",
       "     'wf3Am': '맑음',\n",
       "     'wf3Pm': '맑음',\n",
       "     'wf4Am': '구름많음',\n",
       "     'wf4Pm': '맑음',\n",
       "     'wf5Am': '구름많음',\n",
       "     'wf5Pm': '구름많음',\n",
       "     'wf6Am': '흐리고 비',\n",
       "     'wf6Pm': '구름많음',\n",
       "     'wf7Am': '구름많고 비',\n",
       "     'wf7Pm': '맑음',\n",
       "     'wf8': '구름많음',\n",
       "     'wf9': '구름많음',\n",
       "     'wf10': '구름많음'}},\n",
       "   'numOfRows': '10',\n",
       "   'pageNo': '1',\n",
       "   'totalCount': '1'}}}"
      ]
     },
     "metadata": {},
     "execution_count": 116
    }
   ],
   "metadata": {}
  },
  {
   "cell_type": "markdown",
   "source": [
    "### 반복문을 활용해 데이터프레임 생성"
   ],
   "metadata": {}
  },
  {
   "cell_type": "code",
   "execution_count": 117,
   "source": [
    "items = result['response']['body']['items']['item']\n",
    "wt_data = []\n",
    "index = []\n",
    "\n",
    "for i in items:\n",
    "  wt_data.append(items[i])\n",
    "  index.append(i)\n",
    "print(wt_data)\n",
    "print(index)"
   ],
   "outputs": [
    {
     "output_type": "stream",
     "name": "stdout",
     "text": [
      "['11B00000', '0', '0', '20', '0', '20', '40', '90', '40', '70', '20', '30', '30', '30', '맑음', '맑음', '구름많음', '맑음', '구름많음', '구름많음', '흐리고 비', '구름많음', '구름많고 비', '맑음', '구름많음', '구름많음', '구름많음']\n",
      "['regId', 'rnSt3Am', 'rnSt3Pm', 'rnSt4Am', 'rnSt4Pm', 'rnSt5Am', 'rnSt5Pm', 'rnSt6Am', 'rnSt6Pm', 'rnSt7Am', 'rnSt7Pm', 'rnSt8', 'rnSt9', 'rnSt10', 'wf3Am', 'wf3Pm', 'wf4Am', 'wf4Pm', 'wf5Am', 'wf5Pm', 'wf6Am', 'wf6Pm', 'wf7Am', 'wf7Pm', 'wf8', 'wf9', 'wf10']\n"
     ]
    }
   ],
   "metadata": {}
  },
  {
   "cell_type": "code",
   "execution_count": 118,
   "source": [
    "full = []\n",
    "for i in range(1, int((len(wt_data))/2)+1):\n",
    "  rn = wt_data[i]\n",
    "  wf = wt_data[i+13]\n",
    "  full.append([rn, wf])\n",
    "print(full)"
   ],
   "outputs": [
    {
     "output_type": "stream",
     "name": "stdout",
     "text": [
      "[['0', '맑음'], ['0', '맑음'], ['20', '구름많음'], ['0', '맑음'], ['20', '구름많음'], ['40', '구름많음'], ['90', '흐리고 비'], ['40', '구름많음'], ['70', '구름많고 비'], ['20', '맑음'], ['30', '구름많음'], ['30', '구름많음'], ['30', '구름많음']]\n"
     ]
    }
   ],
   "metadata": {}
  },
  {
   "cell_type": "code",
   "execution_count": 119,
   "source": [
    "columns = ['비 올 확률(%)', '날씨']\n",
    "index = ['3일 후 오전', '3일 후 오후', '4일 후 오전', '4일 후 오후', '5일 후 오전', '5일 후 오후', '6일 후 오전', '6일 후 오후', '7일 후 오전', '7일 후 오후', '8일 후', '9일 후', '10일 후']\n",
    "full_df = pd.DataFrame(full, index=index, columns=columns)\n",
    "full_df"
   ],
   "outputs": [
    {
     "output_type": "execute_result",
     "data": {
      "text/html": [
       "<div>\n",
       "<style scoped>\n",
       "    .dataframe tbody tr th:only-of-type {\n",
       "        vertical-align: middle;\n",
       "    }\n",
       "\n",
       "    .dataframe tbody tr th {\n",
       "        vertical-align: top;\n",
       "    }\n",
       "\n",
       "    .dataframe thead th {\n",
       "        text-align: right;\n",
       "    }\n",
       "</style>\n",
       "<table border=\"1\" class=\"dataframe\">\n",
       "  <thead>\n",
       "    <tr style=\"text-align: right;\">\n",
       "      <th></th>\n",
       "      <th>비 올 확률(%)</th>\n",
       "      <th>날씨</th>\n",
       "    </tr>\n",
       "  </thead>\n",
       "  <tbody>\n",
       "    <tr>\n",
       "      <th>3일 후 오전</th>\n",
       "      <td>0</td>\n",
       "      <td>맑음</td>\n",
       "    </tr>\n",
       "    <tr>\n",
       "      <th>3일 후 오후</th>\n",
       "      <td>0</td>\n",
       "      <td>맑음</td>\n",
       "    </tr>\n",
       "    <tr>\n",
       "      <th>4일 후 오전</th>\n",
       "      <td>20</td>\n",
       "      <td>구름많음</td>\n",
       "    </tr>\n",
       "    <tr>\n",
       "      <th>4일 후 오후</th>\n",
       "      <td>0</td>\n",
       "      <td>맑음</td>\n",
       "    </tr>\n",
       "    <tr>\n",
       "      <th>5일 후 오전</th>\n",
       "      <td>20</td>\n",
       "      <td>구름많음</td>\n",
       "    </tr>\n",
       "    <tr>\n",
       "      <th>5일 후 오후</th>\n",
       "      <td>40</td>\n",
       "      <td>구름많음</td>\n",
       "    </tr>\n",
       "    <tr>\n",
       "      <th>6일 후 오전</th>\n",
       "      <td>90</td>\n",
       "      <td>흐리고 비</td>\n",
       "    </tr>\n",
       "    <tr>\n",
       "      <th>6일 후 오후</th>\n",
       "      <td>40</td>\n",
       "      <td>구름많음</td>\n",
       "    </tr>\n",
       "    <tr>\n",
       "      <th>7일 후 오전</th>\n",
       "      <td>70</td>\n",
       "      <td>구름많고 비</td>\n",
       "    </tr>\n",
       "    <tr>\n",
       "      <th>7일 후 오후</th>\n",
       "      <td>20</td>\n",
       "      <td>맑음</td>\n",
       "    </tr>\n",
       "    <tr>\n",
       "      <th>8일 후</th>\n",
       "      <td>30</td>\n",
       "      <td>구름많음</td>\n",
       "    </tr>\n",
       "    <tr>\n",
       "      <th>9일 후</th>\n",
       "      <td>30</td>\n",
       "      <td>구름많음</td>\n",
       "    </tr>\n",
       "    <tr>\n",
       "      <th>10일 후</th>\n",
       "      <td>30</td>\n",
       "      <td>구름많음</td>\n",
       "    </tr>\n",
       "  </tbody>\n",
       "</table>\n",
       "</div>"
      ],
      "text/plain": [
       "        비 올 확률(%)      날씨\n",
       "3일 후 오전         0      맑음\n",
       "3일 후 오후         0      맑음\n",
       "4일 후 오전        20    구름많음\n",
       "4일 후 오후         0      맑음\n",
       "5일 후 오전        20    구름많음\n",
       "5일 후 오후        40    구름많음\n",
       "6일 후 오전        90   흐리고 비\n",
       "6일 후 오후        40    구름많음\n",
       "7일 후 오전        70  구름많고 비\n",
       "7일 후 오후        20      맑음\n",
       "8일 후           30    구름많음\n",
       "9일 후           30    구름많음\n",
       "10일 후          30    구름많음"
      ]
     },
     "metadata": {},
     "execution_count": 119
    }
   ],
   "metadata": {}
  },
  {
   "cell_type": "code",
   "execution_count": null,
   "source": [],
   "outputs": [],
   "metadata": {}
  }
 ],
 "metadata": {
  "orig_nbformat": 4,
  "language_info": {
   "name": "python",
   "version": "3.9.7",
   "mimetype": "text/x-python",
   "codemirror_mode": {
    "name": "ipython",
    "version": 3
   },
   "pygments_lexer": "ipython3",
   "nbconvert_exporter": "python",
   "file_extension": ".py"
  },
  "kernelspec": {
   "name": "python3",
   "display_name": "Python 3.9.7 64-bit"
  },
  "interpreter": {
   "hash": "767d51c1340bd893661ea55ea3124f6de3c7a262a8b4abca0554b478b1e2ff90"
  }
 },
 "nbformat": 4,
 "nbformat_minor": 2
}