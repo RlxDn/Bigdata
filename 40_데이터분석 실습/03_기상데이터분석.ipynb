{
 "cells": [
  {
   "cell_type": "markdown",
   "metadata": {},
   "source": [
    "# 3. 기상데이터 분석\r\n",
    "* 평균 기온이 상승했을까?\r\n",
    "* 가장 더웠던 날과 최고 기온은?\r\n",
    "* 가장 추웠던 날과 최저 기온은?\r\n",
    "* 일교차가 가장 큰 달은?\r\n",
    "* 우리나라에서 가장 추운 지역은? 더운 지역은?\r\n",
    "* 내가 사는 지역의 데이터 분석"
   ]
  },
  {
   "cell_type": "code",
   "execution_count": null,
   "metadata": {},
   "outputs": [],
   "source": []
  }
 ],
 "metadata": {
  "interpreter": {
   "hash": "4d413c6c4cc2a41bc57b5c1a6321603659553a6025185129d1206934991ade08"
  },
  "kernelspec": {
   "display_name": "Python 3.9.6 64-bit ('PythonSoftwareFoundation.Python.3.9_qbz5n2kfra8p0')",
   "name": "python3"
  },
  "language_info": {
   "name": "python",
   "version": ""
  },
  "orig_nbformat": 4
 },
 "nbformat": 4,
 "nbformat_minor": 2
}